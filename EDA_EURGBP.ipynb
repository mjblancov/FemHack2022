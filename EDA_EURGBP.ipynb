{
 "cells": [
  {
   "cell_type": "markdown",
   "metadata": {},
   "source": [
    "## Imports"
   ]
  },
  {
   "cell_type": "code",
   "execution_count": 1,
   "metadata": {},
   "outputs": [],
   "source": [
    "import pandas as pd\n",
    "import numpy as np\n",
    "import matplotlib\n",
    "import matplotlib.pyplot as plt\n",
    "from matplotlib import rcParams\n",
    "import seaborn as sns\n",
    "%matplotlib inline"
   ]
  },
  {
   "cell_type": "markdown",
   "metadata": {},
   "source": [
    "## Variables"
   ]
  },
  {
   "cell_type": "code",
   "execution_count": 2,
   "metadata": {},
   "outputs": [],
   "source": [
    "INPUT_DATA = \"./data_individual_challenge.csv\""
   ]
  },
  {
   "cell_type": "code",
   "execution_count": 3,
   "metadata": {},
   "outputs": [],
   "source": [
    "data = pd.read_csv(INPUT_DATA,sep=';')"
   ]
  },
  {
   "cell_type": "code",
   "execution_count": 4,
   "metadata": {},
   "outputs": [
    {
     "data": {
      "text/html": [
       "<div>\n",
       "<style scoped>\n",
       "    .dataframe tbody tr th:only-of-type {\n",
       "        vertical-align: middle;\n",
       "    }\n",
       "\n",
       "    .dataframe tbody tr th {\n",
       "        vertical-align: top;\n",
       "    }\n",
       "\n",
       "    .dataframe thead th {\n",
       "        text-align: right;\n",
       "    }\n",
       "</style>\n",
       "<table border=\"1\" class=\"dataframe\">\n",
       "  <thead>\n",
       "    <tr style=\"text-align: right;\">\n",
       "      <th></th>\n",
       "      <th>Date</th>\n",
       "      <th>Open</th>\n",
       "      <th>High</th>\n",
       "      <th>Low</th>\n",
       "      <th>Close</th>\n",
       "      <th>rsi</th>\n",
       "      <th>ema_fast</th>\n",
       "      <th>ema_slow</th>\n",
       "      <th>volatility</th>\n",
       "    </tr>\n",
       "  </thead>\n",
       "  <tbody>\n",
       "    <tr>\n",
       "      <th>0</th>\n",
       "      <td>2000-01-03</td>\n",
       "      <td>0.62810</td>\n",
       "      <td>633.00000</td>\n",
       "      <td>0.62350</td>\n",
       "      <td>0.62720</td>\n",
       "      <td>NaN</td>\n",
       "      <td>NaN</td>\n",
       "      <td>NaN</td>\n",
       "      <td>NaN</td>\n",
       "    </tr>\n",
       "    <tr>\n",
       "      <th>1</th>\n",
       "      <td>2000-01-10</td>\n",
       "      <td>0.62710</td>\n",
       "      <td>629.00000</td>\n",
       "      <td>0.61810</td>\n",
       "      <td>0.61970</td>\n",
       "      <td>NaN</td>\n",
       "      <td>NaN</td>\n",
       "      <td>NaN</td>\n",
       "      <td>NaN</td>\n",
       "    </tr>\n",
       "    <tr>\n",
       "      <th>2</th>\n",
       "      <td>2000-01-17</td>\n",
       "      <td>0.62000</td>\n",
       "      <td>0.62250</td>\n",
       "      <td>0.60720</td>\n",
       "      <td>609.00000</td>\n",
       "      <td>NaN</td>\n",
       "      <td>NaN</td>\n",
       "      <td>NaN</td>\n",
       "      <td>NaN</td>\n",
       "    </tr>\n",
       "    <tr>\n",
       "      <th>3</th>\n",
       "      <td>2000-01-24</td>\n",
       "      <td>0.60910</td>\n",
       "      <td>0.61271</td>\n",
       "      <td>599.00000</td>\n",
       "      <td>0.60270</td>\n",
       "      <td>NaN</td>\n",
       "      <td>NaN</td>\n",
       "      <td>NaN</td>\n",
       "      <td>NaN</td>\n",
       "    </tr>\n",
       "    <tr>\n",
       "      <th>4</th>\n",
       "      <td>2000-01-31</td>\n",
       "      <td>0.60210</td>\n",
       "      <td>0.62670</td>\n",
       "      <td>598.00000</td>\n",
       "      <td>0.61580</td>\n",
       "      <td>NaN</td>\n",
       "      <td>NaN</td>\n",
       "      <td>NaN</td>\n",
       "      <td>NaN</td>\n",
       "    </tr>\n",
       "    <tr>\n",
       "      <th>...</th>\n",
       "      <td>...</td>\n",
       "      <td>...</td>\n",
       "      <td>...</td>\n",
       "      <td>...</td>\n",
       "      <td>...</td>\n",
       "      <td>...</td>\n",
       "      <td>...</td>\n",
       "      <td>...</td>\n",
       "      <td>...</td>\n",
       "    </tr>\n",
       "    <tr>\n",
       "      <th>1030</th>\n",
       "      <td>2019-09-30</td>\n",
       "      <td>0.89002</td>\n",
       "      <td>0.89365</td>\n",
       "      <td>0.88333</td>\n",
       "      <td>0.88779</td>\n",
       "      <td>47.151897</td>\n",
       "      <td>0.895761</td>\n",
       "      <td>0.889108</td>\n",
       "      <td>1.564625</td>\n",
       "    </tr>\n",
       "    <tr>\n",
       "      <th>1031</th>\n",
       "      <td>2019-10-07</td>\n",
       "      <td>0.89050</td>\n",
       "      <td>0.90183</td>\n",
       "      <td>0.86835</td>\n",
       "      <td>0.86835</td>\n",
       "      <td>37.551961</td>\n",
       "      <td>0.892106</td>\n",
       "      <td>0.888143</td>\n",
       "      <td>1.760791</td>\n",
       "    </tr>\n",
       "    <tr>\n",
       "      <th>1032</th>\n",
       "      <td>2019-10-14</td>\n",
       "      <td>0.87443</td>\n",
       "      <td>0.88081</td>\n",
       "      <td>0.85808</td>\n",
       "      <td>0.86451</td>\n",
       "      <td>35.993098</td>\n",
       "      <td>0.888426</td>\n",
       "      <td>0.887044</td>\n",
       "      <td>1.830085</td>\n",
       "    </tr>\n",
       "    <tr>\n",
       "      <th>1033</th>\n",
       "      <td>2019-10-21</td>\n",
       "      <td>0.86453</td>\n",
       "      <td>0.86687</td>\n",
       "      <td>0.85770</td>\n",
       "      <td>0.86380</td>\n",
       "      <td>35.698024</td>\n",
       "      <td>0.885143</td>\n",
       "      <td>0.885962</td>\n",
       "      <td>1.776589</td>\n",
       "    </tr>\n",
       "    <tr>\n",
       "      <th>1034</th>\n",
       "      <td>2019-10-28</td>\n",
       "      <td>0.86390</td>\n",
       "      <td>0.86520</td>\n",
       "      <td>0.85958</td>\n",
       "      <td>0.86280</td>\n",
       "      <td>35.259578</td>\n",
       "      <td>0.882164</td>\n",
       "      <td>0.884885</td>\n",
       "      <td>1.698128</td>\n",
       "    </tr>\n",
       "  </tbody>\n",
       "</table>\n",
       "<p>1035 rows × 9 columns</p>\n",
       "</div>"
      ],
      "text/plain": [
       "            Date     Open       High        Low      Close        rsi  \\\n",
       "0     2000-01-03  0.62810  633.00000    0.62350    0.62720        NaN   \n",
       "1     2000-01-10  0.62710  629.00000    0.61810    0.61970        NaN   \n",
       "2     2000-01-17  0.62000    0.62250    0.60720  609.00000        NaN   \n",
       "3     2000-01-24  0.60910    0.61271  599.00000    0.60270        NaN   \n",
       "4     2000-01-31  0.60210    0.62670  598.00000    0.61580        NaN   \n",
       "...          ...      ...        ...        ...        ...        ...   \n",
       "1030  2019-09-30  0.89002    0.89365    0.88333    0.88779  47.151897   \n",
       "1031  2019-10-07  0.89050    0.90183    0.86835    0.86835  37.551961   \n",
       "1032  2019-10-14  0.87443    0.88081    0.85808    0.86451  35.993098   \n",
       "1033  2019-10-21  0.86453    0.86687    0.85770    0.86380  35.698024   \n",
       "1034  2019-10-28  0.86390    0.86520    0.85958    0.86280  35.259578   \n",
       "\n",
       "      ema_fast  ema_slow  volatility  \n",
       "0          NaN       NaN         NaN  \n",
       "1          NaN       NaN         NaN  \n",
       "2          NaN       NaN         NaN  \n",
       "3          NaN       NaN         NaN  \n",
       "4          NaN       NaN         NaN  \n",
       "...        ...       ...         ...  \n",
       "1030  0.895761  0.889108    1.564625  \n",
       "1031  0.892106  0.888143    1.760791  \n",
       "1032  0.888426  0.887044    1.830085  \n",
       "1033  0.885143  0.885962    1.776589  \n",
       "1034  0.882164  0.884885    1.698128  \n",
       "\n",
       "[1035 rows x 9 columns]"
      ]
     },
     "execution_count": 4,
     "metadata": {},
     "output_type": "execute_result"
    }
   ],
   "source": [
    "data"
   ]
  },
  {
   "cell_type": "markdown",
   "metadata": {},
   "source": [
    "+ We have 1035 rows and 9 columns\n",
    "+ We can see some rows where the low price is bigger than high prices, and that doesn't make sense. For example rows with index 3 and 4. They might be an error\n",
    "+ The row at index 3 close with 599 and the next week open with 6.021. So it doesn't make sense. It might be an error\n",
    "+ There are some missing values almost at rsi, ema_fast, ema_slow, and volatility"
   ]
  },
  {
   "cell_type": "markdown",
   "metadata": {},
   "source": [
    "## Data types"
   ]
  },
  {
   "cell_type": "code",
   "execution_count": 5,
   "metadata": {},
   "outputs": [
    {
     "name": "stdout",
     "output_type": "stream",
     "text": [
      "<class 'pandas.core.frame.DataFrame'>\n",
      "RangeIndex: 1035 entries, 0 to 1034\n",
      "Data columns (total 9 columns):\n",
      " #   Column      Non-Null Count  Dtype  \n",
      "---  ------      --------------  -----  \n",
      " 0   Date        1035 non-null   object \n",
      " 1   Open        1035 non-null   float64\n",
      " 2   High        1035 non-null   float64\n",
      " 3   Low         1035 non-null   float64\n",
      " 4   Close       1035 non-null   float64\n",
      " 5   rsi         1021 non-null   float64\n",
      " 6   ema_fast    1022 non-null   float64\n",
      " 7   ema_slow    994 non-null    float64\n",
      " 8   volatility  1021 non-null   float64\n",
      "dtypes: float64(8), object(1)\n",
      "memory usage: 72.9+ KB\n"
     ]
    }
   ],
   "source": [
    "data.info()"
   ]
  },
  {
   "cell_type": "markdown",
   "metadata": {},
   "source": [
    " We are going to convert Date variable to Datetime type"
   ]
  },
  {
   "cell_type": "code",
   "execution_count": 6,
   "metadata": {},
   "outputs": [],
   "source": [
    "data['Date']= pd.to_datetime(data['Date'])"
   ]
  },
  {
   "cell_type": "markdown",
   "metadata": {},
   "source": [
    "## Univariate analysis"
   ]
  },
  {
   "cell_type": "markdown",
   "metadata": {},
   "source": [
    "#### Date"
   ]
  },
  {
   "cell_type": "code",
   "execution_count": 7,
   "metadata": {},
   "outputs": [
    {
     "data": {
      "text/plain": [
       "count                    1035\n",
       "unique                   1035\n",
       "top       2017-10-30 00:00:00\n",
       "freq                        1\n",
       "first     2000-01-03 00:00:00\n",
       "last      2019-10-28 00:00:00\n",
       "Name: Date, dtype: object"
      ]
     },
     "execution_count": 7,
     "metadata": {},
     "output_type": "execute_result"
    }
   ],
   "source": [
    "data['Date'].describe()"
   ]
  },
  {
   "cell_type": "markdown",
   "metadata": {},
   "source": [
    "+ We have data from 3th January 2000 to 28th October 2019\n",
    "+ There are no missing values in this variable"
   ]
  },
  {
   "cell_type": "markdown",
   "metadata": {},
   "source": [
    "#### Open"
   ]
  },
  {
   "cell_type": "code",
   "execution_count": 8,
   "metadata": {},
   "outputs": [
    {
     "data": {
      "text/plain": [
       "count    1035.000000\n",
       "mean       54.802227\n",
       "std       193.425540\n",
       "min         0.578300\n",
       "25%         0.683300\n",
       "50%         0.800900\n",
       "75%         0.874650\n",
       "max       892.000000\n",
       "Name: Open, dtype: float64"
      ]
     },
     "execution_count": 8,
     "metadata": {},
     "output_type": "execute_result"
    }
   ],
   "source": [
    "data['Open'].describe()"
   ]
  },
  {
   "cell_type": "markdown",
   "metadata": {},
   "source": [
    "+ There are no missing values in this variable.\n",
    "+ We can observe that the maximum value is a strange value because is a huge value. It doesn't seem to be an outlier, it must be an error. We have to analyze how many rows have this kind of data."
   ]
  },
  {
   "cell_type": "code",
   "execution_count": 9,
   "metadata": {},
   "outputs": [
    {
     "data": {
      "text/html": [
       "<div>\n",
       "<style scoped>\n",
       "    .dataframe tbody tr th:only-of-type {\n",
       "        vertical-align: middle;\n",
       "    }\n",
       "\n",
       "    .dataframe tbody tr th {\n",
       "        vertical-align: top;\n",
       "    }\n",
       "\n",
       "    .dataframe thead th {\n",
       "        text-align: right;\n",
       "    }\n",
       "</style>\n",
       "<table border=\"1\" class=\"dataframe\">\n",
       "  <thead>\n",
       "    <tr style=\"text-align: right;\">\n",
       "      <th></th>\n",
       "      <th>Date</th>\n",
       "      <th>Open</th>\n",
       "      <th>High</th>\n",
       "      <th>Low</th>\n",
       "      <th>Close</th>\n",
       "      <th>rsi</th>\n",
       "      <th>ema_fast</th>\n",
       "      <th>ema_slow</th>\n",
       "      <th>volatility</th>\n",
       "    </tr>\n",
       "  </thead>\n",
       "  <tbody>\n",
       "    <tr>\n",
       "      <th>466</th>\n",
       "      <td>2008-12-08</td>\n",
       "      <td>866.0</td>\n",
       "      <td>0.89890</td>\n",
       "      <td>0.85780</td>\n",
       "      <td>0.8966</td>\n",
       "      <td>70.878240</td>\n",
       "      <td>0.827844</td>\n",
       "      <td>0.795277</td>\n",
       "      <td>3.367277</td>\n",
       "    </tr>\n",
       "    <tr>\n",
       "      <th>524</th>\n",
       "      <td>2010-01-18</td>\n",
       "      <td>882.0</td>\n",
       "      <td>0.88320</td>\n",
       "      <td>0.86480</td>\n",
       "      <td>878.0000</td>\n",
       "      <td>45.192626</td>\n",
       "      <td>0.892776</td>\n",
       "      <td>0.885602</td>\n",
       "      <td>2.182794</td>\n",
       "    </tr>\n",
       "    <tr>\n",
       "      <th>528</th>\n",
       "      <td>2010-02-15</td>\n",
       "      <td>869.0</td>\n",
       "      <td>0.88140</td>\n",
       "      <td>0.86620</td>\n",
       "      <td>0.8811</td>\n",
       "      <td>47.834751</td>\n",
       "      <td>0.884542</td>\n",
       "      <td>0.883499</td>\n",
       "      <td>2.167962</td>\n",
       "    </tr>\n",
       "    <tr>\n",
       "      <th>537</th>\n",
       "      <td>2010-04-19</td>\n",
       "      <td>882.0</td>\n",
       "      <td>884.00000</td>\n",
       "      <td>0.86060</td>\n",
       "      <td>0.8686</td>\n",
       "      <td>41.133004</td>\n",
       "      <td>0.886867</td>\n",
       "      <td>0.885899</td>\n",
       "      <td>2.141572</td>\n",
       "    </tr>\n",
       "    <tr>\n",
       "      <th>546</th>\n",
       "      <td>2010-06-21</td>\n",
       "      <td>836.0</td>\n",
       "      <td>0.83780</td>\n",
       "      <td>818.00000</td>\n",
       "      <td>0.8226</td>\n",
       "      <td>32.847578</td>\n",
       "      <td>0.854213</td>\n",
       "      <td>0.871823</td>\n",
       "      <td>2.471975</td>\n",
       "    </tr>\n",
       "    <tr>\n",
       "      <th>549</th>\n",
       "      <td>2010-07-12</td>\n",
       "      <td>839.0</td>\n",
       "      <td>0.84610</td>\n",
       "      <td>0.83160</td>\n",
       "      <td>0.8429</td>\n",
       "      <td>42.590696</td>\n",
       "      <td>0.848149</td>\n",
       "      <td>0.867097</td>\n",
       "      <td>2.336525</td>\n",
       "    </tr>\n",
       "    <tr>\n",
       "      <th>556</th>\n",
       "      <td>2010-08-30</td>\n",
       "      <td>821.0</td>\n",
       "      <td>0.83460</td>\n",
       "      <td>816.00000</td>\n",
       "      <td>0.8327</td>\n",
       "      <td>42.892272</td>\n",
       "      <td>0.834646</td>\n",
       "      <td>0.855792</td>\n",
       "      <td>2.084030</td>\n",
       "    </tr>\n",
       "    <tr>\n",
       "      <th>586</th>\n",
       "      <td>2011-03-28</td>\n",
       "      <td>876.0</td>\n",
       "      <td>885.00000</td>\n",
       "      <td>875.00000</td>\n",
       "      <td>0.8829</td>\n",
       "      <td>62.879852</td>\n",
       "      <td>0.860667</td>\n",
       "      <td>0.856685</td>\n",
       "      <td>1.883093</td>\n",
       "    </tr>\n",
       "    <tr>\n",
       "      <th>601</th>\n",
       "      <td>2011-07-11</td>\n",
       "      <td>886.0</td>\n",
       "      <td>0.88890</td>\n",
       "      <td>0.87450</td>\n",
       "      <td>0.8766</td>\n",
       "      <td>50.326461</td>\n",
       "      <td>0.882982</td>\n",
       "      <td>0.870994</td>\n",
       "      <td>2.073257</td>\n",
       "    </tr>\n",
       "    <tr>\n",
       "      <th>693</th>\n",
       "      <td>2013-04-15</td>\n",
       "      <td>853.0</td>\n",
       "      <td>0.86351</td>\n",
       "      <td>0.85030</td>\n",
       "      <td>0.8577</td>\n",
       "      <td>58.458606</td>\n",
       "      <td>0.849546</td>\n",
       "      <td>0.833580</td>\n",
       "      <td>1.663375</td>\n",
       "    </tr>\n",
       "    <tr>\n",
       "      <th>697</th>\n",
       "      <td>2013-05-13</td>\n",
       "      <td>845.0</td>\n",
       "      <td>0.85133</td>\n",
       "      <td>0.84130</td>\n",
       "      <td>0.8454</td>\n",
       "      <td>52.579707</td>\n",
       "      <td>0.847070</td>\n",
       "      <td>0.835342</td>\n",
       "      <td>1.600618</td>\n",
       "    </tr>\n",
       "    <tr>\n",
       "      <th>699</th>\n",
       "      <td>2013-05-27</td>\n",
       "      <td>855.0</td>\n",
       "      <td>0.85955</td>\n",
       "      <td>0.85240</td>\n",
       "      <td>0.8549</td>\n",
       "      <td>56.878993</td>\n",
       "      <td>0.849042</td>\n",
       "      <td>0.837128</td>\n",
       "      <td>1.542455</td>\n",
       "    </tr>\n",
       "    <tr>\n",
       "      <th>708</th>\n",
       "      <td>2013-07-29</td>\n",
       "      <td>863.0</td>\n",
       "      <td>0.87681</td>\n",
       "      <td>0.86212</td>\n",
       "      <td>0.8686</td>\n",
       "      <td>62.722637</td>\n",
       "      <td>0.857418</td>\n",
       "      <td>0.844813</td>\n",
       "      <td>1.412287</td>\n",
       "    </tr>\n",
       "    <tr>\n",
       "      <th>944</th>\n",
       "      <td>2018-02-05</td>\n",
       "      <td>882.0</td>\n",
       "      <td>0.89081</td>\n",
       "      <td>0.87347</td>\n",
       "      <td>0.8856</td>\n",
       "      <td>50.486666</td>\n",
       "      <td>0.884868</td>\n",
       "      <td>0.881117</td>\n",
       "      <td>1.536070</td>\n",
       "    </tr>\n",
       "    <tr>\n",
       "      <th>951</th>\n",
       "      <td>2018-03-26</td>\n",
       "      <td>873.0</td>\n",
       "      <td>0.88180</td>\n",
       "      <td>0.87170</td>\n",
       "      <td>0.8818</td>\n",
       "      <td>48.349888</td>\n",
       "      <td>0.883856</td>\n",
       "      <td>0.881854</td>\n",
       "      <td>1.437214</td>\n",
       "    </tr>\n",
       "    <tr>\n",
       "      <th>993</th>\n",
       "      <td>2019-01-14</td>\n",
       "      <td>892.0</td>\n",
       "      <td>0.89511</td>\n",
       "      <td>0.87708</td>\n",
       "      <td>0.8772</td>\n",
       "      <td>42.766643</td>\n",
       "      <td>0.889711</td>\n",
       "      <td>0.887268</td>\n",
       "      <td>1.500093</td>\n",
       "    </tr>\n",
       "  </tbody>\n",
       "</table>\n",
       "</div>"
      ],
      "text/plain": [
       "          Date   Open       High        Low     Close        rsi  ema_fast  \\\n",
       "466 2008-12-08  866.0    0.89890    0.85780    0.8966  70.878240  0.827844   \n",
       "524 2010-01-18  882.0    0.88320    0.86480  878.0000  45.192626  0.892776   \n",
       "528 2010-02-15  869.0    0.88140    0.86620    0.8811  47.834751  0.884542   \n",
       "537 2010-04-19  882.0  884.00000    0.86060    0.8686  41.133004  0.886867   \n",
       "546 2010-06-21  836.0    0.83780  818.00000    0.8226  32.847578  0.854213   \n",
       "549 2010-07-12  839.0    0.84610    0.83160    0.8429  42.590696  0.848149   \n",
       "556 2010-08-30  821.0    0.83460  816.00000    0.8327  42.892272  0.834646   \n",
       "586 2011-03-28  876.0  885.00000  875.00000    0.8829  62.879852  0.860667   \n",
       "601 2011-07-11  886.0    0.88890    0.87450    0.8766  50.326461  0.882982   \n",
       "693 2013-04-15  853.0    0.86351    0.85030    0.8577  58.458606  0.849546   \n",
       "697 2013-05-13  845.0    0.85133    0.84130    0.8454  52.579707  0.847070   \n",
       "699 2013-05-27  855.0    0.85955    0.85240    0.8549  56.878993  0.849042   \n",
       "708 2013-07-29  863.0    0.87681    0.86212    0.8686  62.722637  0.857418   \n",
       "944 2018-02-05  882.0    0.89081    0.87347    0.8856  50.486666  0.884868   \n",
       "951 2018-03-26  873.0    0.88180    0.87170    0.8818  48.349888  0.883856   \n",
       "993 2019-01-14  892.0    0.89511    0.87708    0.8772  42.766643  0.889711   \n",
       "\n",
       "     ema_slow  volatility  \n",
       "466  0.795277    3.367277  \n",
       "524  0.885602    2.182794  \n",
       "528  0.883499    2.167962  \n",
       "537  0.885899    2.141572  \n",
       "546  0.871823    2.471975  \n",
       "549  0.867097    2.336525  \n",
       "556  0.855792    2.084030  \n",
       "586  0.856685    1.883093  \n",
       "601  0.870994    2.073257  \n",
       "693  0.833580    1.663375  \n",
       "697  0.835342    1.600618  \n",
       "699  0.837128    1.542455  \n",
       "708  0.844813    1.412287  \n",
       "944  0.881117    1.536070  \n",
       "951  0.881854    1.437214  \n",
       "993  0.887268    1.500093  "
      ]
     },
     "execution_count": 9,
     "metadata": {},
     "output_type": "execute_result"
    }
   ],
   "source": [
    "data.loc[data['Open']>800,]"
   ]
  },
  {
   "cell_type": "code",
   "execution_count": 10,
   "metadata": {},
   "outputs": [
    {
     "data": {
      "text/plain": [
       "76"
      ]
     },
     "execution_count": 10,
     "metadata": {},
     "output_type": "execute_result"
    }
   ],
   "source": [
    "data.loc[data['Open']>1].shape[0]"
   ]
  },
  {
   "cell_type": "code",
   "execution_count": 11,
   "metadata": {},
   "outputs": [
    {
     "data": {
      "text/plain": [
       "76"
      ]
     },
     "execution_count": 11,
     "metadata": {},
     "output_type": "execute_result"
    }
   ],
   "source": [
    "data.loc[data['Open']>100].shape[0]"
   ]
  },
  {
   "cell_type": "markdown",
   "metadata": {},
   "source": [
    "It seems that all the prices bigger than 1 are multiplied by 1000. So instead of 885.00000 they are 0.88500. If we do so, low prices will be smaller than high prices and there would be less volatily between open, high, low and close values."
   ]
  },
  {
   "cell_type": "code",
   "execution_count": 12,
   "metadata": {},
   "outputs": [],
   "source": [
    "data.loc[data['Open']>1,'Open']=data['Open']/1000"
   ]
  },
  {
   "cell_type": "code",
   "execution_count": 13,
   "metadata": {},
   "outputs": [
    {
     "data": {
      "text/plain": [
       "count    1035.000000\n",
       "mean        0.766462\n",
       "std         0.099069\n",
       "min         0.578300\n",
       "25%         0.679100\n",
       "50%         0.787900\n",
       "75%         0.859930\n",
       "max         0.961400\n",
       "Name: Open, dtype: float64"
      ]
     },
     "execution_count": 13,
     "metadata": {},
     "output_type": "execute_result"
    }
   ],
   "source": [
    "data['Open'].describe()"
   ]
  },
  {
   "cell_type": "code",
   "execution_count": 14,
   "metadata": {},
   "outputs": [
    {
     "data": {
      "text/plain": [
       "(array([1.63930912, 2.37069319, 5.01880792, 2.37069319, 0.83226463,\n",
       "        2.72377515, 2.87509599, 5.39711002, 2.64811473, 0.22698126]),\n",
       " array([0.5783 , 0.61661, 0.65492, 0.69323, 0.73154, 0.76985, 0.80816,\n",
       "        0.84647, 0.88478, 0.92309, 0.9614 ]),\n",
       " <a list of 10 Patch objects>)"
      ]
     },
     "execution_count": 14,
     "metadata": {},
     "output_type": "execute_result"
    },
    {
     "data": {
      "image/png": "[encoded data removed]",
      "text/plain": [
       "<Figure size 432x288 with 1 Axes>"
      ]
     },
     "metadata": {
      "needs_background": "light"
     },
     "output_type": "display_data"
    }
   ],
   "source": [
    "fig,ax = plt.subplots()\n",
    "ax.hist(data['Open'],density= True)"
   ]
  },
  {
   "cell_type": "markdown",
   "metadata": {},
   "source": [
    "+ The values are from  0.57 to 0.96\n",
    "+ The distribution is not normal. Its seems like 2 normal distributions"
   ]
  },
  {
   "cell_type": "code",
   "execution_count": 15,
   "metadata": {},
   "outputs": [
    {
     "data": {
      "text/plain": [
       "{'whiskers': [<matplotlib.lines.Line2D at 0x18c55fb8a58>,\n",
       "  <matplotlib.lines.Line2D at 0x18c55fb8dd8>],\n",
       " 'caps': [<matplotlib.lines.Line2D at 0x18c55fc9198>,\n",
       "  <matplotlib.lines.Line2D at 0x18c55fc9518>],\n",
       " 'boxes': [<matplotlib.lines.Line2D at 0x18c55fb8748>],\n",
       " 'medians': [<matplotlib.lines.Line2D at 0x18c55fc9898>],\n",
       " 'fliers': [<matplotlib.lines.Line2D at 0x18c55fc9c18>],\n",
       " 'means': []}"
      ]
     },
     "execution_count": 15,
     "metadata": {},
     "output_type": "execute_result"
    },
    {
     "data": {
      "image/png": "[encoded data removed]",
      "text/plain": [
       "<Figure size 432x288 with 1 Axes>"
      ]
     },
     "metadata": {
      "needs_background": "light"
     },
     "output_type": "display_data"
    }
   ],
   "source": [
    "fig,ax = plt.subplots()\n",
    "ax.boxplot(data['Open'])"
   ]
  },
  {
   "cell_type": "markdown",
   "metadata": {},
   "source": [
    "+ This distribution doesn't have outliers"
   ]
  },
  {
   "cell_type": "markdown",
   "metadata": {},
   "source": [
    "#### High"
   ]
  },
  {
   "cell_type": "code",
   "execution_count": 16,
   "metadata": {},
   "outputs": [
    {
     "data": {
      "text/plain": [
       "count    1035.000000\n",
       "mean       62.775776\n",
       "std       209.802582\n",
       "min         0.587600\n",
       "25%         0.688375\n",
       "50%         0.806430\n",
       "75%         0.881685\n",
       "max       934.000000\n",
       "Name: High, dtype: float64"
      ]
     },
     "execution_count": 16,
     "metadata": {},
     "output_type": "execute_result"
    }
   ],
   "source": [
    "data['High'].describe()"
   ]
  },
  {
   "cell_type": "markdown",
   "metadata": {},
   "source": [
    "+ There are no missing values in this variable.\n",
    "+ It has strange values that we have to correct"
   ]
  },
  {
   "cell_type": "code",
   "execution_count": 17,
   "metadata": {},
   "outputs": [
    {
     "data": {
      "text/plain": [
       "86"
      ]
     },
     "execution_count": 17,
     "metadata": {},
     "output_type": "execute_result"
    }
   ],
   "source": [
    "data.loc[data['High']>1].shape[0]"
   ]
  },
  {
   "cell_type": "code",
   "execution_count": 18,
   "metadata": {},
   "outputs": [
    {
     "data": {
      "text/plain": [
       "85"
      ]
     },
     "execution_count": 18,
     "metadata": {},
     "output_type": "execute_result"
    }
   ],
   "source": [
    "data.loc[data['High']>100].shape[0]"
   ]
  },
  {
   "cell_type": "code",
   "execution_count": 19,
   "metadata": {},
   "outputs": [
    {
     "data": {
      "text/html": [
       "<div>\n",
       "<style scoped>\n",
       "    .dataframe tbody tr th:only-of-type {\n",
       "        vertical-align: middle;\n",
       "    }\n",
       "\n",
       "    .dataframe tbody tr th {\n",
       "        vertical-align: top;\n",
       "    }\n",
       "\n",
       "    .dataframe thead th {\n",
       "        text-align: right;\n",
       "    }\n",
       "</style>\n",
       "<table border=\"1\" class=\"dataframe\">\n",
       "  <thead>\n",
       "    <tr style=\"text-align: right;\">\n",
       "      <th></th>\n",
       "      <th>Date</th>\n",
       "      <th>Open</th>\n",
       "      <th>High</th>\n",
       "      <th>Low</th>\n",
       "      <th>Close</th>\n",
       "      <th>rsi</th>\n",
       "      <th>ema_fast</th>\n",
       "      <th>ema_slow</th>\n",
       "      <th>volatility</th>\n",
       "    </tr>\n",
       "  </thead>\n",
       "  <tbody>\n",
       "    <tr>\n",
       "      <th>247</th>\n",
       "      <td>2004-09-27</td>\n",
       "      <td>0.68</td>\n",
       "      <td>2.2335</td>\n",
       "      <td>0.6781</td>\n",
       "      <td>0.6895</td>\n",
       "      <td>61.503026</td>\n",
       "      <td>0.675635</td>\n",
       "      <td>0.675357</td>\n",
       "      <td>17.421381</td>\n",
       "    </tr>\n",
       "  </tbody>\n",
       "</table>\n",
       "</div>"
      ],
      "text/plain": [
       "          Date  Open    High     Low   Close        rsi  ema_fast  ema_slow  \\\n",
       "247 2004-09-27  0.68  2.2335  0.6781  0.6895  61.503026  0.675635  0.675357   \n",
       "\n",
       "     volatility  \n",
       "247   17.421381  "
      ]
     },
     "execution_count": 19,
     "metadata": {},
     "output_type": "execute_result"
    }
   ],
   "source": [
    "data.loc[(data['High']>1)&(data['High']<=100)]"
   ]
  },
  {
   "cell_type": "markdown",
   "metadata": {},
   "source": [
    "+ There is one row that have 2.2335 for High. It might be Ok because it has a great volatility (17.42), so it's not an error. It would be an outlier. \n",
    "+ We are going to see the nearest weeks"
   ]
  },
  {
   "cell_type": "code",
   "execution_count": 20,
   "metadata": {},
   "outputs": [
    {
     "data": {
      "text/html": [
       "<div>\n",
       "<style scoped>\n",
       "    .dataframe tbody tr th:only-of-type {\n",
       "        vertical-align: middle;\n",
       "    }\n",
       "\n",
       "    .dataframe tbody tr th {\n",
       "        vertical-align: top;\n",
       "    }\n",
       "\n",
       "    .dataframe thead th {\n",
       "        text-align: right;\n",
       "    }\n",
       "</style>\n",
       "<table border=\"1\" class=\"dataframe\">\n",
       "  <thead>\n",
       "    <tr style=\"text-align: right;\">\n",
       "      <th></th>\n",
       "      <th>Date</th>\n",
       "      <th>Open</th>\n",
       "      <th>High</th>\n",
       "      <th>Low</th>\n",
       "      <th>Close</th>\n",
       "      <th>rsi</th>\n",
       "      <th>ema_fast</th>\n",
       "      <th>ema_slow</th>\n",
       "      <th>volatility</th>\n",
       "    </tr>\n",
       "  </thead>\n",
       "  <tbody>\n",
       "    <tr>\n",
       "      <th>241</th>\n",
       "      <td>2004-08-16</td>\n",
       "      <td>0.6712</td>\n",
       "      <td>0.6781</td>\n",
       "      <td>0.6686</td>\n",
       "      <td>0.6766</td>\n",
       "      <td>54.626790</td>\n",
       "      <td>0.667879</td>\n",
       "      <td>0.673614</td>\n",
       "      <td>1.477325</td>\n",
       "    </tr>\n",
       "    <tr>\n",
       "      <th>242</th>\n",
       "      <td>2004-08-23</td>\n",
       "      <td>0.6769</td>\n",
       "      <td>0.6781</td>\n",
       "      <td>0.6682</td>\n",
       "      <td>0.6709</td>\n",
       "      <td>50.188942</td>\n",
       "      <td>0.668282</td>\n",
       "      <td>0.673487</td>\n",
       "      <td>1.488859</td>\n",
       "    </tr>\n",
       "    <tr>\n",
       "      <th>243</th>\n",
       "      <td>2004-08-30</td>\n",
       "      <td>0.6707</td>\n",
       "      <td>0.6814</td>\n",
       "      <td>0.6699</td>\n",
       "      <td>0.6794</td>\n",
       "      <td>55.937566</td>\n",
       "      <td>0.669764</td>\n",
       "      <td>0.673762</td>\n",
       "      <td>1.486120</td>\n",
       "    </tr>\n",
       "    <tr>\n",
       "      <th>244</th>\n",
       "      <td>2004-09-06</td>\n",
       "      <td>0.6793</td>\n",
       "      <td>685.0000</td>\n",
       "      <td>676.0000</td>\n",
       "      <td>0.6828</td>\n",
       "      <td>58.024363</td>\n",
       "      <td>0.671502</td>\n",
       "      <td>0.674183</td>\n",
       "      <td>1.467247</td>\n",
       "    </tr>\n",
       "    <tr>\n",
       "      <th>245</th>\n",
       "      <td>2004-09-13</td>\n",
       "      <td>0.6830</td>\n",
       "      <td>0.6853</td>\n",
       "      <td>0.6778</td>\n",
       "      <td>679.0000</td>\n",
       "      <td>54.895151</td>\n",
       "      <td>0.672502</td>\n",
       "      <td>0.674407</td>\n",
       "      <td>1.448966</td>\n",
       "    </tr>\n",
       "    <tr>\n",
       "      <th>246</th>\n",
       "      <td>2004-09-20</td>\n",
       "      <td>0.6790</td>\n",
       "      <td>0.6866</td>\n",
       "      <td>0.6785</td>\n",
       "      <td>0.6800</td>\n",
       "      <td>55.574138</td>\n",
       "      <td>0.673502</td>\n",
       "      <td>0.674667</td>\n",
       "      <td>1.428574</td>\n",
       "    </tr>\n",
       "    <tr>\n",
       "      <th>247</th>\n",
       "      <td>2004-09-27</td>\n",
       "      <td>0.6800</td>\n",
       "      <td>2.2335</td>\n",
       "      <td>0.6781</td>\n",
       "      <td>0.6895</td>\n",
       "      <td>61.503026</td>\n",
       "      <td>0.675635</td>\n",
       "      <td>0.675357</td>\n",
       "      <td>17.421381</td>\n",
       "    </tr>\n",
       "    <tr>\n",
       "      <th>248</th>\n",
       "      <td>2004-10-04</td>\n",
       "      <td>0.6896</td>\n",
       "      <td>0.6924</td>\n",
       "      <td>0.6863</td>\n",
       "      <td>0.6912</td>\n",
       "      <td>62.468289</td>\n",
       "      <td>0.677710</td>\n",
       "      <td>0.676094</td>\n",
       "      <td>16.200247</td>\n",
       "    </tr>\n",
       "    <tr>\n",
       "      <th>249</th>\n",
       "      <td>2004-10-11</td>\n",
       "      <td>0.6915</td>\n",
       "      <td>0.6923</td>\n",
       "      <td>685.0000</td>\n",
       "      <td>0.6916</td>\n",
       "      <td>62.705242</td>\n",
       "      <td>0.679562</td>\n",
       "      <td>0.676815</td>\n",
       "      <td>15.109781</td>\n",
       "    </tr>\n",
       "    <tr>\n",
       "      <th>250</th>\n",
       "      <td>2004-10-18</td>\n",
       "      <td>0.6916</td>\n",
       "      <td>0.6964</td>\n",
       "      <td>0.6889</td>\n",
       "      <td>0.6953</td>\n",
       "      <td>64.911975</td>\n",
       "      <td>0.681660</td>\n",
       "      <td>0.677675</td>\n",
       "      <td>14.032896</td>\n",
       "    </tr>\n",
       "    <tr>\n",
       "      <th>251</th>\n",
       "      <td>2004-10-25</td>\n",
       "      <td>0.6953</td>\n",
       "      <td>0.6976</td>\n",
       "      <td>0.6929</td>\n",
       "      <td>0.6965</td>\n",
       "      <td>65.622437</td>\n",
       "      <td>0.683639</td>\n",
       "      <td>0.678550</td>\n",
       "      <td>13.056296</td>\n",
       "    </tr>\n",
       "    <tr>\n",
       "      <th>252</th>\n",
       "      <td>2004-11-01</td>\n",
       "      <td>0.6965</td>\n",
       "      <td>0.7001</td>\n",
       "      <td>0.6896</td>\n",
       "      <td>0.6985</td>\n",
       "      <td>66.827993</td>\n",
       "      <td>0.685621</td>\n",
       "      <td>0.679478</td>\n",
       "      <td>12.196363</td>\n",
       "    </tr>\n",
       "    <tr>\n",
       "      <th>253</th>\n",
       "      <td>2004-11-08</td>\n",
       "      <td>0.6984</td>\n",
       "      <td>0.7012</td>\n",
       "      <td>694.0000</td>\n",
       "      <td>0.6993</td>\n",
       "      <td>67.321641</td>\n",
       "      <td>0.687444</td>\n",
       "      <td>0.680400</td>\n",
       "      <td>11.385781</td>\n",
       "    </tr>\n",
       "    <tr>\n",
       "      <th>254</th>\n",
       "      <td>2004-11-15</td>\n",
       "      <td>0.6996</td>\n",
       "      <td>703.0000</td>\n",
       "      <td>0.6978</td>\n",
       "      <td>701.0000</td>\n",
       "      <td>68.397872</td>\n",
       "      <td>0.689252</td>\n",
       "      <td>0.681358</td>\n",
       "      <td>10.599857</td>\n",
       "    </tr>\n",
       "  </tbody>\n",
       "</table>\n",
       "</div>"
      ],
      "text/plain": [
       "          Date    Open      High       Low     Close        rsi  ema_fast  \\\n",
       "241 2004-08-16  0.6712    0.6781    0.6686    0.6766  54.626790  0.667879   \n",
       "242 2004-08-23  0.6769    0.6781    0.6682    0.6709  50.188942  0.668282   \n",
       "243 2004-08-30  0.6707    0.6814    0.6699    0.6794  55.937566  0.669764   \n",
       "244 2004-09-06  0.6793  685.0000  676.0000    0.6828  58.024363  0.671502   \n",
       "245 2004-09-13  0.6830    0.6853    0.6778  679.0000  54.895151  0.672502   \n",
       "246 2004-09-20  0.6790    0.6866    0.6785    0.6800  55.574138  0.673502   \n",
       "247 2004-09-27  0.6800    2.2335    0.6781    0.6895  61.503026  0.675635   \n",
       "248 2004-10-04  0.6896    0.6924    0.6863    0.6912  62.468289  0.677710   \n",
       "249 2004-10-11  0.6915    0.6923  685.0000    0.6916  62.705242  0.679562   \n",
       "250 2004-10-18  0.6916    0.6964    0.6889    0.6953  64.911975  0.681660   \n",
       "251 2004-10-25  0.6953    0.6976    0.6929    0.6965  65.622437  0.683639   \n",
       "252 2004-11-01  0.6965    0.7001    0.6896    0.6985  66.827993  0.685621   \n",
       "253 2004-11-08  0.6984    0.7012  694.0000    0.6993  67.321641  0.687444   \n",
       "254 2004-11-15  0.6996  703.0000    0.6978  701.0000  68.397872  0.689252   \n",
       "\n",
       "     ema_slow  volatility  \n",
       "241  0.673614    1.477325  \n",
       "242  0.673487    1.488859  \n",
       "243  0.673762    1.486120  \n",
       "244  0.674183    1.467247  \n",
       "245  0.674407    1.448966  \n",
       "246  0.674667    1.428574  \n",
       "247  0.675357   17.421381  \n",
       "248  0.676094   16.200247  \n",
       "249  0.676815   15.109781  \n",
       "250  0.677675   14.032896  \n",
       "251  0.678550   13.056296  \n",
       "252  0.679478   12.196363  \n",
       "253  0.680400   11.385781  \n",
       "254  0.681358   10.599857  "
      ]
     },
     "execution_count": 20,
     "metadata": {},
     "output_type": "execute_result"
    }
   ],
   "source": [
    "data.loc[(data.index >240) & (data.index <255)]"
   ]
  },
  {
   "cell_type": "markdown",
   "metadata": {},
   "source": [
    "In the week of 2004-09-27 the volatility grew a lot and then it start decreasing. So it is not an error, it is an outlier"
   ]
  },
  {
   "cell_type": "code",
   "execution_count": 21,
   "metadata": {},
   "outputs": [],
   "source": [
    "data.loc[data['High']>100,'High']=data['High']/1000"
   ]
  },
  {
   "cell_type": "code",
   "execution_count": 22,
   "metadata": {},
   "outputs": [
    {
     "data": {
      "text/plain": [
       "count    1035.000000\n",
       "mean        0.775037\n",
       "std         0.109941\n",
       "min         0.587600\n",
       "25%         0.684500\n",
       "50%         0.794610\n",
       "75%         0.867000\n",
       "max         2.233500\n",
       "Name: High, dtype: float64"
      ]
     },
     "execution_count": 22,
     "metadata": {},
     "output_type": "execute_result"
    }
   ],
   "source": [
    "data['High'].describe()"
   ]
  },
  {
   "cell_type": "code",
   "execution_count": 23,
   "metadata": {},
   "outputs": [
    {
     "data": {
      "text/plain": [
       "(array([2.73553403, 3.19928336, 0.13501563, 0.        , 0.        ,\n",
       "        0.        , 0.        , 0.        , 0.        , 0.00587024]),\n",
       " array([0.5876 , 0.75219, 0.91678, 1.08137, 1.24596, 1.41055, 1.57514,\n",
       "        1.73973, 1.90432, 2.06891, 2.2335 ]),\n",
       " <a list of 10 Patch objects>)"
      ]
     },
     "execution_count": 23,
     "metadata": {},
     "output_type": "execute_result"
    },
    {
     "data": {
      "image/png": "[encoded data removed]",
      "text/plain": [
       "<Figure size 432x288 with 1 Axes>"
      ]
     },
     "metadata": {
      "needs_background": "light"
     },
     "output_type": "display_data"
    }
   ],
   "source": [
    "fig,ax = plt.subplots()\n",
    "ax.hist(data['High'],density= True)"
   ]
  },
  {
   "cell_type": "markdown",
   "metadata": {},
   "source": [
    "+ This variable has a very different distribution to High\n",
    "+ It seems to have an outlier in 2.25\n"
   ]
  },
  {
   "cell_type": "code",
   "execution_count": 24,
   "metadata": {},
   "outputs": [
    {
     "data": {
      "text/plain": [
       "{'whiskers': [<matplotlib.lines.Line2D at 0x18c560bc5c0>,\n",
       "  <matplotlib.lines.Line2D at 0x18c560bc940>],\n",
       " 'caps': [<matplotlib.lines.Line2D at 0x18c560bccc0>,\n",
       "  <matplotlib.lines.Line2D at 0x18c560c8080>],\n",
       " 'boxes': [<matplotlib.lines.Line2D at 0x18c560bc2b0>],\n",
       " 'medians': [<matplotlib.lines.Line2D at 0x18c560c8400>],\n",
       " 'fliers': [<matplotlib.lines.Line2D at 0x18c560c8780>],\n",
       " 'means': []}"
      ]
     },
     "execution_count": 24,
     "metadata": {},
     "output_type": "execute_result"
    },
    {
     "data": {
      "image/png": "[encoded data removed]",
      "text/plain": [
       "<Figure size 432x288 with 1 Axes>"
      ]
     },
     "metadata": {
      "needs_background": "light"
     },
     "output_type": "display_data"
    }
   ],
   "source": [
    "fig,ax = plt.subplots()\n",
    "ax.boxplot(data['High'])"
   ]
  },
  {
   "cell_type": "markdown",
   "metadata": {},
   "source": [
    "Let analyze the distribution without that instance"
   ]
  },
  {
   "cell_type": "code",
   "execution_count": 25,
   "metadata": {},
   "outputs": [
    {
     "data": {
      "text/plain": [
       "count    1034.000000\n",
       "mean        0.773627\n",
       "std         0.100187\n",
       "min         0.587600\n",
       "25%         0.684450\n",
       "50%         0.794605\n",
       "75%         0.866968\n",
       "max         0.979700\n",
       "Name: High, dtype: float64"
      ]
     },
     "execution_count": 25,
     "metadata": {},
     "output_type": "execute_result"
    }
   ],
   "source": [
    "data.loc[data['High']<1,'High'].describe()"
   ]
  },
  {
   "cell_type": "code",
   "execution_count": 26,
   "metadata": {},
   "outputs": [
    {
     "data": {
      "text/plain": [
       "(array([1.97320681, 2.12119732, 5.32765839, 1.92387664, 0.59196204,\n",
       "        3.05847056, 3.40378175, 5.22899805, 1.67722579, 0.19732068]),\n",
       " array([0.5876 , 0.62681, 0.66602, 0.70523, 0.74444, 0.78365, 0.82286,\n",
       "        0.86207, 0.90128, 0.94049, 0.9797 ]),\n",
       " <a list of 10 Patch objects>)"
      ]
     },
     "execution_count": 26,
     "metadata": {},
     "output_type": "execute_result"
    },
    {
     "data": {
      "image/png": "[encoded data removed]",
      "text/plain": [
       "<Figure size 432x288 with 1 Axes>"
      ]
     },
     "metadata": {
      "needs_background": "light"
     },
     "output_type": "display_data"
    }
   ],
   "source": [
    "fig,ax = plt.subplots()\n",
    "ax.hist(data.loc[data['High']<1,'High'],density= True)"
   ]
  },
  {
   "cell_type": "markdown",
   "metadata": {},
   "source": [
    "+ Without that outlier, the distribution is very similar to the Open variable."
   ]
  },
  {
   "cell_type": "markdown",
   "metadata": {},
   "source": [
    "#### Low"
   ]
  },
  {
   "cell_type": "code",
   "execution_count": 27,
   "metadata": {},
   "outputs": [
    {
     "data": {
      "text/plain": [
       "count    1035.000000\n",
       "mean       76.327544\n",
       "std       226.985729\n",
       "min         0.006600\n",
       "25%         0.678200\n",
       "50%         0.798400\n",
       "75%         0.869890\n",
       "max       899.000000\n",
       "Name: Low, dtype: float64"
      ]
     },
     "execution_count": 27,
     "metadata": {},
     "output_type": "execute_result"
    }
   ],
   "source": [
    "data['Low'].describe()"
   ]
  },
  {
   "cell_type": "markdown",
   "metadata": {},
   "source": [
    "+ There are no missing values in this variable."
   ]
  },
  {
   "cell_type": "code",
   "execution_count": 28,
   "metadata": {},
   "outputs": [
    {
     "data": {
      "text/plain": [
       "105"
      ]
     },
     "execution_count": 28,
     "metadata": {},
     "output_type": "execute_result"
    }
   ],
   "source": [
    "data.loc[data['Low']>1].shape[0]"
   ]
  },
  {
   "cell_type": "code",
   "execution_count": 29,
   "metadata": {},
   "outputs": [
    {
     "data": {
      "text/plain": [
       "True"
      ]
     },
     "execution_count": 29,
     "metadata": {},
     "output_type": "execute_result"
    }
   ],
   "source": [
    "data.loc[data['Low']>1].shape[0]== data.loc[data['Low']>100].shape[0]"
   ]
  },
  {
   "cell_type": "code",
   "execution_count": 30,
   "metadata": {},
   "outputs": [],
   "source": [
    "data.loc[data['Low']>100,'Low']=data['Low']/1000"
   ]
  },
  {
   "cell_type": "code",
   "execution_count": 31,
   "metadata": {},
   "outputs": [
    {
     "data": {
      "text/plain": [
       "count    1035.000000\n",
       "mean        0.758744\n",
       "std         0.101508\n",
       "min         0.006600\n",
       "25%         0.674500\n",
       "50%         0.781000\n",
       "75%         0.851450\n",
       "max         0.943800\n",
       "Name: Low, dtype: float64"
      ]
     },
     "execution_count": 31,
     "metadata": {},
     "output_type": "execute_result"
    }
   ],
   "source": [
    "data['Low'].describe()"
   ]
  },
  {
   "cell_type": "code",
   "execution_count": 32,
   "metadata": {},
   "outputs": [
    {
     "data": {
      "text/plain": [
       "(array([0.01030926, 0.        , 0.        , 0.01030926, 0.        ,\n",
       "        0.01030926, 1.85566628, 3.08246787, 2.93813827, 2.7628809 ]),\n",
       " array([0.0066 , 0.10032, 0.19404, 0.28776, 0.38148, 0.4752 , 0.56892,\n",
       "        0.66264, 0.75636, 0.85008, 0.9438 ]),\n",
       " <a list of 10 Patch objects>)"
      ]
     },
     "execution_count": 32,
     "metadata": {},
     "output_type": "execute_result"
    },
    {
     "data": {
      "image/png": "[encoded data removed]",
      "text/plain": [
       "<Figure size 432x288 with 1 Axes>"
      ]
     },
     "metadata": {
      "needs_background": "light"
     },
     "output_type": "display_data"
    }
   ],
   "source": [
    "fig,ax = plt.subplots()\n",
    "ax.hist(data['Low'],density= True)"
   ]
  },
  {
   "cell_type": "markdown",
   "metadata": {},
   "source": [
    "+ Here we have outliers on the left side of the distribution"
   ]
  },
  {
   "cell_type": "code",
   "execution_count": 33,
   "metadata": {},
   "outputs": [
    {
     "data": {
      "text/plain": [
       "{'whiskers': [<matplotlib.lines.Line2D at 0x18c56216128>,\n",
       "  <matplotlib.lines.Line2D at 0x18c562164a8>],\n",
       " 'caps': [<matplotlib.lines.Line2D at 0x18c56216828>,\n",
       "  <matplotlib.lines.Line2D at 0x18c56216ba8>],\n",
       " 'boxes': [<matplotlib.lines.Line2D at 0x18c56208dd8>],\n",
       " 'medians': [<matplotlib.lines.Line2D at 0x18c56216f28>],\n",
       " 'fliers': [<matplotlib.lines.Line2D at 0x18c562202e8>],\n",
       " 'means': []}"
      ]
     },
     "execution_count": 33,
     "metadata": {},
     "output_type": "execute_result"
    },
    {
     "data": {
      "image/png": "[encoded data removed]",
      "text/plain": [
       "<Figure size 432x288 with 1 Axes>"
      ]
     },
     "metadata": {
      "needs_background": "light"
     },
     "output_type": "display_data"
    }
   ],
   "source": [
    "fig,ax = plt.subplots()\n",
    "ax.boxplot(data['Low'])"
   ]
  },
  {
   "cell_type": "code",
   "execution_count": 34,
   "metadata": {},
   "outputs": [
    {
     "data": {
      "text/plain": [
       "297    0.3375\n",
       "428    0.0066\n",
       "Name: Low, dtype: float64"
      ]
     },
     "execution_count": 34,
     "metadata": {},
     "output_type": "execute_result"
    }
   ],
   "source": [
    "data.loc[data['Low']<0.55,'Low']"
   ]
  },
  {
   "cell_type": "markdown",
   "metadata": {},
   "source": [
    "Lets see the distribution without that outliers"
   ]
  },
  {
   "cell_type": "code",
   "execution_count": 35,
   "metadata": {},
   "outputs": [
    {
     "data": {
      "text/plain": [
       "(array([1.05587184, 2.96159176, 3.70842794, 3.68267497, 0.95285996,\n",
       "        2.31776746, 2.49803827, 4.97032356, 4.14622846, 0.30903566]),\n",
       " array([0.5679 , 0.60549, 0.64308, 0.68067, 0.71826, 0.75585, 0.79344,\n",
       "        0.83103, 0.86862, 0.90621, 0.9438 ]),\n",
       " <a list of 10 Patch objects>)"
      ]
     },
     "execution_count": 35,
     "metadata": {},
     "output_type": "execute_result"
    },
    {
     "data": {
      "image/png": "[encoded data removed]",
      "text/plain": [
       "<Figure size 432x288 with 1 Axes>"
      ]
     },
     "metadata": {
      "needs_background": "light"
     },
     "output_type": "display_data"
    }
   ],
   "source": [
    "fig,ax = plt.subplots()\n",
    "ax.hist(data.loc[data['Low']>0.55,'Low'],density= True)"
   ]
  },
  {
   "cell_type": "markdown",
   "metadata": {},
   "source": [
    "+ It has a similar distribution than the previous variables"
   ]
  },
  {
   "cell_type": "markdown",
   "metadata": {},
   "source": [
    "#### Close"
   ]
  },
  {
   "cell_type": "code",
   "execution_count": 36,
   "metadata": {},
   "outputs": [
    {
     "data": {
      "text/plain": [
       "80"
      ]
     },
     "execution_count": 36,
     "metadata": {},
     "output_type": "execute_result"
    }
   ],
   "source": [
    "data.loc[data['Close']>1].shape[0]"
   ]
  },
  {
   "cell_type": "code",
   "execution_count": 37,
   "metadata": {},
   "outputs": [
    {
     "data": {
      "text/plain": [
       "True"
      ]
     },
     "execution_count": 37,
     "metadata": {},
     "output_type": "execute_result"
    }
   ],
   "source": [
    "data.loc[data['Close']>1].shape[0]== data.loc[data['Close']>100].shape[0]"
   ]
  },
  {
   "cell_type": "code",
   "execution_count": 38,
   "metadata": {},
   "outputs": [],
   "source": [
    "data.loc[data['Close']>100,'Close']=data['Close']/1000"
   ]
  },
  {
   "cell_type": "code",
   "execution_count": 39,
   "metadata": {},
   "outputs": [
    {
     "data": {
      "text/plain": [
       "count    1035.000000\n",
       "mean        0.766788\n",
       "std         0.099102\n",
       "min         0.578400\n",
       "25%         0.679100\n",
       "50%         0.787800\n",
       "75%         0.861200\n",
       "max         0.961600\n",
       "Name: Close, dtype: float64"
      ]
     },
     "execution_count": 39,
     "metadata": {},
     "output_type": "execute_result"
    }
   ],
   "source": [
    "data['Close'].describe()"
   ]
  },
  {
   "cell_type": "code",
   "execution_count": 40,
   "metadata": {},
   "outputs": [
    {
     "data": {
      "text/plain": [
       "(array([1.61366777, 2.37007453, 4.99228465, 2.42050165, 0.80683388,\n",
       "        2.72306436, 2.89955927, 5.32006092, 2.72306436, 0.22692203]),\n",
       " array([0.5784 , 0.61672, 0.65504, 0.69336, 0.73168, 0.77   , 0.80832,\n",
       "        0.84664, 0.88496, 0.92328, 0.9616 ]),\n",
       " <a list of 10 Patch objects>)"
      ]
     },
     "execution_count": 40,
     "metadata": {},
     "output_type": "execute_result"
    },
    {
     "data": {
      "image/png": "[encoded data removed]",
      "text/plain": [
       "<Figure size 432x288 with 1 Axes>"
      ]
     },
     "metadata": {
      "needs_background": "light"
     },
     "output_type": "display_data"
    }
   ],
   "source": [
    "fig,ax = plt.subplots()\n",
    "ax.hist(data['Close'],density= True)"
   ]
  },
  {
   "cell_type": "markdown",
   "metadata": {},
   "source": [
    "+ It is very similar to the previous variables"
   ]
  },
  {
   "cell_type": "code",
   "execution_count": 41,
   "metadata": {},
   "outputs": [
    {
     "data": {
      "text/plain": [
       "{'whiskers': [<matplotlib.lines.Line2D at 0x18c563db128>,\n",
       "  <matplotlib.lines.Line2D at 0x18c563db4a8>],\n",
       " 'caps': [<matplotlib.lines.Line2D at 0x18c563db828>,\n",
       "  <matplotlib.lines.Line2D at 0x18c563dbba8>],\n",
       " 'boxes': [<matplotlib.lines.Line2D at 0x18c563ccdd8>],\n",
       " 'medians': [<matplotlib.lines.Line2D at 0x18c563dbf28>],\n",
       " 'fliers': [<matplotlib.lines.Line2D at 0x18c563e52e8>],\n",
       " 'means': []}"
      ]
     },
     "execution_count": 41,
     "metadata": {},
     "output_type": "execute_result"
    },
    {
     "data": {
      "image/png": "[encoded data removed]",
      "text/plain": [
       "<Figure size 432x288 with 1 Axes>"
      ]
     },
     "metadata": {
      "needs_background": "light"
     },
     "output_type": "display_data"
    }
   ],
   "source": [
    "fig,ax = plt.subplots()\n",
    "ax.boxplot(data['Close'])"
   ]
  },
  {
   "cell_type": "markdown",
   "metadata": {},
   "source": [
    "This variable doesn't have outliers"
   ]
  },
  {
   "cell_type": "markdown",
   "metadata": {},
   "source": [
    "+ Open,High,Low and Close variables are simetric but not normal variables.\n",
    "+ There are some outliers and we have to decide what to do with them"
   ]
  },
  {
   "cell_type": "code",
   "execution_count": 42,
   "metadata": {},
   "outputs": [
    {
     "data": {
      "text/plain": [
       "3"
      ]
     },
     "execution_count": 42,
     "metadata": {},
     "output_type": "execute_result"
    }
   ],
   "source": [
    "data.loc[(data['High']>1)|(data['Low']<0.5)].shape[0]"
   ]
  },
  {
   "cell_type": "markdown",
   "metadata": {},
   "source": [
    "There are only 3 outliers"
   ]
  },
  {
   "cell_type": "code",
   "execution_count": 43,
   "metadata": {},
   "outputs": [
    {
     "name": "stdout",
     "output_type": "stream",
     "text": [
      "Percentage of ouliers:0.29%\n"
     ]
    }
   ],
   "source": [
    "print('Percentage of ouliers:{:.2%}'.format(data.loc[(data['High']>1)|(data['Low']<0.5)].shape[0]/data.shape[0]))"
   ]
  },
  {
   "cell_type": "markdown",
   "metadata": {},
   "source": [
    "We can remove the outliers because they represent only a 0.29% of the dataset"
   ]
  },
  {
   "cell_type": "code",
   "execution_count": 44,
   "metadata": {},
   "outputs": [],
   "source": [
    "data= data.loc[(data['High']<1)&(data['Low']>0.5)]"
   ]
  },
  {
   "cell_type": "code",
   "execution_count": 45,
   "metadata": {},
   "outputs": [
    {
     "data": {
      "text/plain": [
       "(1032, 9)"
      ]
     },
     "execution_count": 45,
     "metadata": {},
     "output_type": "execute_result"
    }
   ],
   "source": [
    "data.shape"
   ]
  },
  {
   "cell_type": "markdown",
   "metadata": {},
   "source": [
    "Now we have 1032 rows"
   ]
  },
  {
   "cell_type": "markdown",
   "metadata": {},
   "source": [
    "#### Validations"
   ]
  },
  {
   "cell_type": "code",
   "execution_count": 46,
   "metadata": {},
   "outputs": [
    {
     "data": {
      "text/html": [
       "<div>\n",
       "<style scoped>\n",
       "    .dataframe tbody tr th:only-of-type {\n",
       "        vertical-align: middle;\n",
       "    }\n",
       "\n",
       "    .dataframe tbody tr th {\n",
       "        vertical-align: top;\n",
       "    }\n",
       "\n",
       "    .dataframe thead th {\n",
       "        text-align: right;\n",
       "    }\n",
       "</style>\n",
       "<table border=\"1\" class=\"dataframe\">\n",
       "  <thead>\n",
       "    <tr style=\"text-align: right;\">\n",
       "      <th></th>\n",
       "      <th>Date</th>\n",
       "      <th>Open</th>\n",
       "      <th>High</th>\n",
       "      <th>Low</th>\n",
       "      <th>Close</th>\n",
       "      <th>rsi</th>\n",
       "      <th>ema_fast</th>\n",
       "      <th>ema_slow</th>\n",
       "      <th>volatility</th>\n",
       "    </tr>\n",
       "  </thead>\n",
       "  <tbody>\n",
       "    <tr>\n",
       "      <th>0</th>\n",
       "      <td>2000-01-03</td>\n",
       "      <td>0.62810</td>\n",
       "      <td>0.63300</td>\n",
       "      <td>0.62350</td>\n",
       "      <td>0.62720</td>\n",
       "      <td>NaN</td>\n",
       "      <td>NaN</td>\n",
       "      <td>NaN</td>\n",
       "      <td>NaN</td>\n",
       "    </tr>\n",
       "    <tr>\n",
       "      <th>1</th>\n",
       "      <td>2000-01-10</td>\n",
       "      <td>0.62710</td>\n",
       "      <td>0.62900</td>\n",
       "      <td>0.61810</td>\n",
       "      <td>0.61970</td>\n",
       "      <td>NaN</td>\n",
       "      <td>NaN</td>\n",
       "      <td>NaN</td>\n",
       "      <td>NaN</td>\n",
       "    </tr>\n",
       "    <tr>\n",
       "      <th>2</th>\n",
       "      <td>2000-01-17</td>\n",
       "      <td>0.62000</td>\n",
       "      <td>0.62250</td>\n",
       "      <td>0.60720</td>\n",
       "      <td>0.60900</td>\n",
       "      <td>NaN</td>\n",
       "      <td>NaN</td>\n",
       "      <td>NaN</td>\n",
       "      <td>NaN</td>\n",
       "    </tr>\n",
       "    <tr>\n",
       "      <th>3</th>\n",
       "      <td>2000-01-24</td>\n",
       "      <td>0.60910</td>\n",
       "      <td>0.61271</td>\n",
       "      <td>0.59900</td>\n",
       "      <td>0.60270</td>\n",
       "      <td>NaN</td>\n",
       "      <td>NaN</td>\n",
       "      <td>NaN</td>\n",
       "      <td>NaN</td>\n",
       "    </tr>\n",
       "    <tr>\n",
       "      <th>4</th>\n",
       "      <td>2000-01-31</td>\n",
       "      <td>0.60210</td>\n",
       "      <td>0.62670</td>\n",
       "      <td>0.59800</td>\n",
       "      <td>0.61580</td>\n",
       "      <td>NaN</td>\n",
       "      <td>NaN</td>\n",
       "      <td>NaN</td>\n",
       "      <td>NaN</td>\n",
       "    </tr>\n",
       "    <tr>\n",
       "      <th>...</th>\n",
       "      <td>...</td>\n",
       "      <td>...</td>\n",
       "      <td>...</td>\n",
       "      <td>...</td>\n",
       "      <td>...</td>\n",
       "      <td>...</td>\n",
       "      <td>...</td>\n",
       "      <td>...</td>\n",
       "      <td>...</td>\n",
       "    </tr>\n",
       "    <tr>\n",
       "      <th>1030</th>\n",
       "      <td>2019-09-30</td>\n",
       "      <td>0.89002</td>\n",
       "      <td>0.89365</td>\n",
       "      <td>0.88333</td>\n",
       "      <td>0.88779</td>\n",
       "      <td>47.151897</td>\n",
       "      <td>0.895761</td>\n",
       "      <td>0.889108</td>\n",
       "      <td>1.564625</td>\n",
       "    </tr>\n",
       "    <tr>\n",
       "      <th>1031</th>\n",
       "      <td>2019-10-07</td>\n",
       "      <td>0.89050</td>\n",
       "      <td>0.90183</td>\n",
       "      <td>0.86835</td>\n",
       "      <td>0.86835</td>\n",
       "      <td>37.551961</td>\n",
       "      <td>0.892106</td>\n",
       "      <td>0.888143</td>\n",
       "      <td>1.760791</td>\n",
       "    </tr>\n",
       "    <tr>\n",
       "      <th>1032</th>\n",
       "      <td>2019-10-14</td>\n",
       "      <td>0.87443</td>\n",
       "      <td>0.88081</td>\n",
       "      <td>0.85808</td>\n",
       "      <td>0.86451</td>\n",
       "      <td>35.993098</td>\n",
       "      <td>0.888426</td>\n",
       "      <td>0.887044</td>\n",
       "      <td>1.830085</td>\n",
       "    </tr>\n",
       "    <tr>\n",
       "      <th>1033</th>\n",
       "      <td>2019-10-21</td>\n",
       "      <td>0.86453</td>\n",
       "      <td>0.86687</td>\n",
       "      <td>0.85770</td>\n",
       "      <td>0.86380</td>\n",
       "      <td>35.698024</td>\n",
       "      <td>0.885143</td>\n",
       "      <td>0.885962</td>\n",
       "      <td>1.776589</td>\n",
       "    </tr>\n",
       "    <tr>\n",
       "      <th>1034</th>\n",
       "      <td>2019-10-28</td>\n",
       "      <td>0.86390</td>\n",
       "      <td>0.86520</td>\n",
       "      <td>0.85958</td>\n",
       "      <td>0.86280</td>\n",
       "      <td>35.259578</td>\n",
       "      <td>0.882164</td>\n",
       "      <td>0.884885</td>\n",
       "      <td>1.698128</td>\n",
       "    </tr>\n",
       "  </tbody>\n",
       "</table>\n",
       "<p>1032 rows × 9 columns</p>\n",
       "</div>"
      ],
      "text/plain": [
       "           Date     Open     High      Low    Close        rsi  ema_fast  \\\n",
       "0    2000-01-03  0.62810  0.63300  0.62350  0.62720        NaN       NaN   \n",
       "1    2000-01-10  0.62710  0.62900  0.61810  0.61970        NaN       NaN   \n",
       "2    2000-01-17  0.62000  0.62250  0.60720  0.60900        NaN       NaN   \n",
       "3    2000-01-24  0.60910  0.61271  0.59900  0.60270        NaN       NaN   \n",
       "4    2000-01-31  0.60210  0.62670  0.59800  0.61580        NaN       NaN   \n",
       "...         ...      ...      ...      ...      ...        ...       ...   \n",
       "1030 2019-09-30  0.89002  0.89365  0.88333  0.88779  47.151897  0.895761   \n",
       "1031 2019-10-07  0.89050  0.90183  0.86835  0.86835  37.551961  0.892106   \n",
       "1032 2019-10-14  0.87443  0.88081  0.85808  0.86451  35.993098  0.888426   \n",
       "1033 2019-10-21  0.86453  0.86687  0.85770  0.86380  35.698024  0.885143   \n",
       "1034 2019-10-28  0.86390  0.86520  0.85958  0.86280  35.259578  0.882164   \n",
       "\n",
       "      ema_slow  volatility  \n",
       "0          NaN         NaN  \n",
       "1          NaN         NaN  \n",
       "2          NaN         NaN  \n",
       "3          NaN         NaN  \n",
       "4          NaN         NaN  \n",
       "...        ...         ...  \n",
       "1030  0.889108    1.564625  \n",
       "1031  0.888143    1.760791  \n",
       "1032  0.887044    1.830085  \n",
       "1033  0.885962    1.776589  \n",
       "1034  0.884885    1.698128  \n",
       "\n",
       "[1032 rows x 9 columns]"
      ]
     },
     "execution_count": 46,
     "metadata": {},
     "output_type": "execute_result"
    }
   ],
   "source": [
    "data"
   ]
  },
  {
   "cell_type": "markdown",
   "metadata": {},
   "source": [
    "#### Are Low values lower than High values?"
   ]
  },
  {
   "cell_type": "code",
   "execution_count": 47,
   "metadata": {},
   "outputs": [
    {
     "data": {
      "text/plain": [
       "0"
      ]
     },
     "execution_count": 47,
     "metadata": {},
     "output_type": "execute_result"
    }
   ],
   "source": [
    "data.loc[data['Low']>data['High']].shape[0]"
   ]
  },
  {
   "cell_type": "markdown",
   "metadata": {},
   "source": [
    "Now there no rows where Low values are higher than High values"
   ]
  },
  {
   "cell_type": "markdown",
   "metadata": {},
   "source": [
    "#### rsi"
   ]
  },
  {
   "cell_type": "code",
   "execution_count": 48,
   "metadata": {},
   "outputs": [
    {
     "data": {
      "text/plain": [
       "count    1018.000000\n",
       "mean       51.239921\n",
       "std        10.251936\n",
       "min        19.171099\n",
       "25%        44.386730\n",
       "50%        50.721510\n",
       "75%        57.649684\n",
       "max        79.522395\n",
       "Name: rsi, dtype: float64"
      ]
     },
     "execution_count": 48,
     "metadata": {},
     "output_type": "execute_result"
    }
   ],
   "source": [
    "data['rsi'].describe()"
   ]
  },
  {
   "cell_type": "markdown",
   "metadata": {},
   "source": [
    "+ There are some missing values in this variable.\n",
    "+ It seems that it has a simetric distribution"
   ]
  },
  {
   "cell_type": "code",
   "execution_count": 49,
   "metadata": {},
   "outputs": [
    {
     "data": {
      "text/plain": [
       "0.1999788363422494"
      ]
     },
     "execution_count": 49,
     "metadata": {},
     "output_type": "execute_result"
    }
   ],
   "source": [
    "np.std(data['rsi'])/np.mean(data['rsi'])"
   ]
  },
  {
   "cell_type": "code",
   "execution_count": 50,
   "metadata": {},
   "outputs": [
    {
     "data": {
      "text/plain": [
       "(array([0.00065107, 0.0024415 , 0.0102543 , 0.02295011, 0.03727358,\n",
       "        0.04036615, 0.02392671, 0.01562561, 0.00911494, 0.00309257]),\n",
       " array([19.17109855, 25.20622824, 31.24135792, 37.2764876 , 43.31161728,\n",
       "        49.34674697, 55.38187665, 61.41700633, 67.45213601, 73.4872657 ,\n",
       "        79.52239538]),\n",
       " <a list of 10 Patch objects>)"
      ]
     },
     "execution_count": 50,
     "metadata": {},
     "output_type": "execute_result"
    },
    {
     "data": {
      "image/png": "[encoded data removed]",
      "text/plain": [
       "<Figure size 432x288 with 1 Axes>"
      ]
     },
     "metadata": {
      "needs_background": "light"
     },
     "output_type": "display_data"
    }
   ],
   "source": [
    "fig,ax = plt.subplots()\n",
    "ax.hist(data.loc[pd.isna(data['rsi'])==False,'rsi'],density= True)"
   ]
  },
  {
   "cell_type": "markdown",
   "metadata": {},
   "source": [
    "+ It is a normal distribution"
   ]
  },
  {
   "cell_type": "markdown",
   "metadata": {},
   "source": [
    "### ema_fast"
   ]
  },
  {
   "cell_type": "code",
   "execution_count": 51,
   "metadata": {},
   "outputs": [
    {
     "data": {
      "text/plain": [
       "count    1019.000000\n",
       "mean        0.767226\n",
       "std         0.097358\n",
       "min         0.598982\n",
       "25%         0.680565\n",
       "50%         0.789292\n",
       "75%         0.859062\n",
       "max         0.903959\n",
       "Name: ema_fast, dtype: float64"
      ]
     },
     "execution_count": 51,
     "metadata": {},
     "output_type": "execute_result"
    }
   ],
   "source": [
    "data['ema_fast'].describe()"
   ]
  },
  {
   "cell_type": "markdown",
   "metadata": {},
   "source": [
    "+ There are some missing values in this variable"
   ]
  },
  {
   "cell_type": "code",
   "execution_count": 52,
   "metadata": {},
   "outputs": [
    {
     "data": {
      "text/plain": [
       "0.1268345227551681"
      ]
     },
     "execution_count": 52,
     "metadata": {},
     "output_type": "execute_result"
    }
   ],
   "source": [
    "np.std(data['ema_fast'])/np.mean(data['ema_fast'])"
   ]
  },
  {
   "cell_type": "code",
   "execution_count": 53,
   "metadata": {},
   "outputs": [
    {
     "data": {
      "text/plain": [
       "(array([3.70046562, 1.19058459, 5.920745  , 2.60641492, 1.48018625,\n",
       "        1.09405071, 2.83166065, 2.60641492, 5.11629595, 6.24252462]),\n",
       " array([0.59898211, 0.62947982, 0.65997754, 0.69047525, 0.72097297,\n",
       "        0.75147068, 0.78196839, 0.81246611, 0.84296382, 0.87346153,\n",
       "        0.90395925]),\n",
       " <a list of 10 Patch objects>)"
      ]
     },
     "execution_count": 53,
     "metadata": {},
     "output_type": "execute_result"
    },
    {
     "data": {
      "image/png": "[encoded data removed]",
      "text/plain": [
       "<Figure size 432x288 with 1 Axes>"
      ]
     },
     "metadata": {
      "needs_background": "light"
     },
     "output_type": "display_data"
    }
   ],
   "source": [
    "fig,ax = plt.subplots()\n",
    "ax.hist(data.loc[pd.isna(data['ema_fast'])==False,'ema_fast'],density= True)"
   ]
  },
  {
   "cell_type": "markdown",
   "metadata": {},
   "source": [
    "+ It is not a normal distribution\n",
    "+ It is simetric"
   ]
  },
  {
   "cell_type": "markdown",
   "metadata": {},
   "source": [
    "### ema_slow"
   ]
  },
  {
   "cell_type": "code",
   "execution_count": 54,
   "metadata": {},
   "outputs": [
    {
     "data": {
      "text/plain": [
       "count    991.000000\n",
       "mean       0.767803\n",
       "std        0.093470\n",
       "min        0.607234\n",
       "25%        0.682333\n",
       "50%        0.785421\n",
       "75%        0.856231\n",
       "max        0.889572\n",
       "Name: ema_slow, dtype: float64"
      ]
     },
     "execution_count": 54,
     "metadata": {},
     "output_type": "execute_result"
    }
   ],
   "source": [
    "data['ema_slow'].describe()"
   ]
  },
  {
   "cell_type": "markdown",
   "metadata": {},
   "source": [
    "+ There are some missing values in this variable"
   ]
  },
  {
   "cell_type": "code",
   "execution_count": 55,
   "metadata": {},
   "outputs": [
    {
     "data": {
      "text/plain": [
       "0.1216751734118988"
      ]
     },
     "execution_count": 55,
     "metadata": {},
     "output_type": "execute_result"
    }
   ],
   "source": [
    "np.std(data['ema_slow'])/np.mean(data['ema_slow'])"
   ]
  },
  {
   "cell_type": "code",
   "execution_count": 56,
   "metadata": {},
   "outputs": [
    {
     "data": {
      "text/plain": [
       "(array([4.18159225, 0.60758178, 8.47040481, 0.50036147, 1.71552502,\n",
       "        1.92996565, 1.25090366, 3.18086932, 5.61119644, 7.97004334]),\n",
       " array([0.60723357, 0.63546745, 0.66370133, 0.6919352 , 0.72016908,\n",
       "        0.74840296, 0.77663684, 0.80487071, 0.83310459, 0.86133847,\n",
       "        0.88957235]),\n",
       " <a list of 10 Patch objects>)"
      ]
     },
     "execution_count": 56,
     "metadata": {},
     "output_type": "execute_result"
    },
    {
     "data": {
      "image/png": "[encoded data removed]",
      "text/plain": [
       "<Figure size 432x288 with 1 Axes>"
      ]
     },
     "metadata": {
      "needs_background": "light"
     },
     "output_type": "display_data"
    }
   ],
   "source": [
    "fig,ax = plt.subplots()\n",
    "ax.hist(data.loc[pd.isna(data['ema_slow'])==False,'ema_slow'],density= True)"
   ]
  },
  {
   "cell_type": "markdown",
   "metadata": {},
   "source": [
    "+ It is very similar the previous one.\n",
    "+ ema_fast and ema_slow are similar\n"
   ]
  },
  {
   "cell_type": "markdown",
   "metadata": {},
   "source": [
    "### volatility"
   ]
  },
  {
   "cell_type": "code",
   "execution_count": 57,
   "metadata": {},
   "outputs": [
    {
     "data": {
      "text/plain": [
       "count    1018.000000\n",
       "mean        2.130261\n",
       "std         1.383115\n",
       "min         1.006340\n",
       "25%         1.466948\n",
       "50%         1.835083\n",
       "75%         2.231290\n",
       "max        16.200247\n",
       "Name: volatility, dtype: float64"
      ]
     },
     "execution_count": 57,
     "metadata": {},
     "output_type": "execute_result"
    }
   ],
   "source": [
    "data['volatility'].describe()"
   ]
  },
  {
   "cell_type": "markdown",
   "metadata": {},
   "source": [
    "+ There are some missing values in this variable"
   ]
  },
  {
   "cell_type": "code",
   "execution_count": 58,
   "metadata": {},
   "outputs": [
    {
     "data": {
      "text/plain": [
       "0.6489512873215016"
      ]
     },
     "execution_count": 58,
     "metadata": {},
     "output_type": "execute_result"
    }
   ],
   "source": [
    "np.std(data['volatility'])/np.mean(data['volatility'])"
   ]
  },
  {
   "cell_type": "markdown",
   "metadata": {},
   "source": [
    "Volatility variable has a huge coefficient of variation (CV). I suppose it is normal because there some instances with a very high volatility and so the standard deviation is very big"
   ]
  },
  {
   "cell_type": "code",
   "execution_count": 59,
   "metadata": {},
   "outputs": [
    {
     "data": {
      "text/plain": [
       "(array([0.55342211, 0.07305689, 0.01486999, 0.00646521, 0.00387913,\n",
       "        0.00193956, 0.00129304, 0.00129304, 0.00064652, 0.00129304]),\n",
       " array([ 1.00633973,  2.52573048,  4.04512124,  5.564512  ,  7.08390275,\n",
       "         8.60329351, 10.12268426, 11.64207502, 13.16146577, 14.68085653,\n",
       "        16.20024729]),\n",
       " <a list of 10 Patch objects>)"
      ]
     },
     "execution_count": 59,
     "metadata": {},
     "output_type": "execute_result"
    },
    {
     "data": {
      "image/png": "[encoded data removed]",
      "text/plain": [
       "<Figure size 432x288 with 1 Axes>"
      ]
     },
     "metadata": {
      "needs_background": "light"
     },
     "output_type": "display_data"
    }
   ],
   "source": [
    "fig,ax = plt.subplots()\n",
    "ax.hist(data.loc[pd.isna(data['volatility'])==False,'volatility'],density= True)"
   ]
  },
  {
   "cell_type": "markdown",
   "metadata": {},
   "source": [
    "+ This distribution has a large tail on the right. It is not simetric"
   ]
  },
  {
   "cell_type": "code",
   "execution_count": 60,
   "metadata": {},
   "outputs": [
    {
     "data": {
      "text/plain": [
       "{'whiskers': [<matplotlib.lines.Line2D at 0x18c56647b00>,\n",
       "  <matplotlib.lines.Line2D at 0x18c56647e80>],\n",
       " 'caps': [<matplotlib.lines.Line2D at 0x18c56653240>,\n",
       "  <matplotlib.lines.Line2D at 0x18c566535c0>],\n",
       " 'boxes': [<matplotlib.lines.Line2D at 0x18c566477f0>],\n",
       " 'medians': [<matplotlib.lines.Line2D at 0x18c56653940>],\n",
       " 'fliers': [<matplotlib.lines.Line2D at 0x18c56653cc0>],\n",
       " 'means': []}"
      ]
     },
     "execution_count": 60,
     "metadata": {},
     "output_type": "execute_result"
    },
    {
     "data": {
      "image/png": "[encoded data removed]",
      "text/plain": [
       "<Figure size 432x288 with 1 Axes>"
      ]
     },
     "metadata": {
      "needs_background": "light"
     },
     "output_type": "display_data"
    }
   ],
   "source": [
    "fig,ax = plt.subplots()\n",
    "ax.boxplot(data.loc[pd.isna(data['volatility'])==False,'volatility'])"
   ]
  },
  {
   "cell_type": "markdown",
   "metadata": {},
   "source": [
    "+ There are a lot of outliers in this variable\n",
    "+ First we are going to study what would happen if we do a log transformation to this variable"
   ]
  },
  {
   "cell_type": "code",
   "execution_count": 61,
   "metadata": {},
   "outputs": [],
   "source": [
    "log_volatility=np.log(data.loc[pd.isna(data['volatility'])==False,'volatility'])"
   ]
  },
  {
   "cell_type": "code",
   "execution_count": 62,
   "metadata": {},
   "outputs": [
    {
     "data": {
      "text/plain": [
       "(array([0.48078223, 1.13832263, 1.19135009, 0.43836027, 0.17322301,\n",
       "        0.08130876, 0.03535163, 0.02828131, 0.01767582, 0.01414065]),\n",
       " array([0.00631972, 0.2841904 , 0.56206107, 0.83993175, 1.11780243,\n",
       "        1.39567311, 1.67354379, 1.95141447, 2.22928515, 2.50715583,\n",
       "        2.78502651]),\n",
       " <a list of 10 Patch objects>)"
      ]
     },
     "execution_count": 62,
     "metadata": {},
     "output_type": "execute_result"
    },
    {
     "data": {
      "image/png": "[encoded data removed]",
      "text/plain": [
       "<Figure size 432x288 with 1 Axes>"
      ]
     },
     "metadata": {
      "needs_background": "light"
     },
     "output_type": "display_data"
    }
   ],
   "source": [
    "fig,ax = plt.subplots()\n",
    "ax.hist(log_volatility,density= True)"
   ]
  },
  {
   "cell_type": "code",
   "execution_count": 63,
   "metadata": {},
   "outputs": [
    {
     "data": {
      "text/plain": [
       "{'whiskers': [<matplotlib.lines.Line2D at 0x18c561d9ef0>,\n",
       "  <matplotlib.lines.Line2D at 0x18c5629d9b0>],\n",
       " 'caps': [<matplotlib.lines.Line2D at 0x18c562f9c88>,\n",
       "  <matplotlib.lines.Line2D at 0x18c562968d0>],\n",
       " 'boxes': [<matplotlib.lines.Line2D at 0x18c561d9828>],\n",
       " 'medians': [<matplotlib.lines.Line2D at 0x18c562969b0>],\n",
       " 'fliers': [<matplotlib.lines.Line2D at 0x18c562ae978>],\n",
       " 'means': []}"
      ]
     },
     "execution_count": 63,
     "metadata": {},
     "output_type": "execute_result"
    },
    {
     "data": {
      "image/png": "[encoded data removed]",
      "text/plain": [
       "<Figure size 432x288 with 1 Axes>"
      ]
     },
     "metadata": {
      "needs_background": "light"
     },
     "output_type": "display_data"
    }
   ],
   "source": [
    "fig,ax = plt.subplots()\n",
    "ax.boxplot(log_volatility)"
   ]
  },
  {
   "cell_type": "markdown",
   "metadata": {},
   "source": [
    "+ With log transformation the volatility variable has a lot of outliers on the right\n",
    "+ We are going to keep them without any change"
   ]
  },
  {
   "cell_type": "markdown",
   "metadata": {},
   "source": [
    "# Multivariate analysis"
   ]
  },
  {
   "cell_type": "markdown",
   "metadata": {},
   "source": [
    "Now we are going to analyze the relation between variables"
   ]
  },
  {
   "cell_type": "code",
   "execution_count": 64,
   "metadata": {},
   "outputs": [],
   "source": [
    "continous_variables=data.columns[1:].tolist()"
   ]
  },
  {
   "cell_type": "code",
   "execution_count": 65,
   "metadata": {},
   "outputs": [
    {
     "data": {
      "text/plain": [
       "['Open', 'High', 'Low', 'Close', 'rsi', 'ema_fast', 'ema_slow', 'volatility']"
      ]
     },
     "execution_count": 65,
     "metadata": {},
     "output_type": "execute_result"
    }
   ],
   "source": [
    "continous_variables"
   ]
  },
  {
   "cell_type": "code",
   "execution_count": 66,
   "metadata": {},
   "outputs": [],
   "source": [
    "corr_cont = data[continous_variables].corr()"
   ]
  },
  {
   "cell_type": "code",
   "execution_count": 67,
   "metadata": {},
   "outputs": [
    {
     "data": {
      "text/html": [
       "<div>\n",
       "<style scoped>\n",
       "    .dataframe tbody tr th:only-of-type {\n",
       "        vertical-align: middle;\n",
       "    }\n",
       "\n",
       "    .dataframe tbody tr th {\n",
       "        vertical-align: top;\n",
       "    }\n",
       "\n",
       "    .dataframe thead th {\n",
       "        text-align: right;\n",
       "    }\n",
       "</style>\n",
       "<table border=\"1\" class=\"dataframe\">\n",
       "  <thead>\n",
       "    <tr style=\"text-align: right;\">\n",
       "      <th></th>\n",
       "      <th>Open</th>\n",
       "      <th>High</th>\n",
       "      <th>Low</th>\n",
       "      <th>Close</th>\n",
       "      <th>rsi</th>\n",
       "      <th>ema_fast</th>\n",
       "      <th>ema_slow</th>\n",
       "      <th>volatility</th>\n",
       "    </tr>\n",
       "  </thead>\n",
       "  <tbody>\n",
       "    <tr>\n",
       "      <th>Open</th>\n",
       "      <td>1.000000</td>\n",
       "      <td>0.997765</td>\n",
       "      <td>0.997915</td>\n",
       "      <td>0.995587</td>\n",
       "      <td>0.078943</td>\n",
       "      <td>0.991611</td>\n",
       "      <td>0.968013</td>\n",
       "      <td>-0.070292</td>\n",
       "    </tr>\n",
       "    <tr>\n",
       "      <th>High</th>\n",
       "      <td>0.997765</td>\n",
       "      <td>1.000000</td>\n",
       "      <td>0.997125</td>\n",
       "      <td>0.998045</td>\n",
       "      <td>0.101303</td>\n",
       "      <td>0.989377</td>\n",
       "      <td>0.963480</td>\n",
       "      <td>-0.064057</td>\n",
       "    </tr>\n",
       "    <tr>\n",
       "      <th>Low</th>\n",
       "      <td>0.997915</td>\n",
       "      <td>0.997125</td>\n",
       "      <td>1.000000</td>\n",
       "      <td>0.997929</td>\n",
       "      <td>0.089003</td>\n",
       "      <td>0.991786</td>\n",
       "      <td>0.969853</td>\n",
       "      <td>-0.077625</td>\n",
       "    </tr>\n",
       "    <tr>\n",
       "      <th>Close</th>\n",
       "      <td>0.995587</td>\n",
       "      <td>0.998045</td>\n",
       "      <td>0.997929</td>\n",
       "      <td>1.000000</td>\n",
       "      <td>0.111305</td>\n",
       "      <td>0.989230</td>\n",
       "      <td>0.964940</td>\n",
       "      <td>-0.069950</td>\n",
       "    </tr>\n",
       "    <tr>\n",
       "      <th>rsi</th>\n",
       "      <td>0.078943</td>\n",
       "      <td>0.101303</td>\n",
       "      <td>0.089003</td>\n",
       "      <td>0.111305</td>\n",
       "      <td>1.000000</td>\n",
       "      <td>-0.016902</td>\n",
       "      <td>-0.151344</td>\n",
       "      <td>0.213278</td>\n",
       "    </tr>\n",
       "    <tr>\n",
       "      <th>ema_fast</th>\n",
       "      <td>0.991611</td>\n",
       "      <td>0.989377</td>\n",
       "      <td>0.991786</td>\n",
       "      <td>0.989230</td>\n",
       "      <td>-0.016902</td>\n",
       "      <td>1.000000</td>\n",
       "      <td>0.988195</td>\n",
       "      <td>-0.090605</td>\n",
       "    </tr>\n",
       "    <tr>\n",
       "      <th>ema_slow</th>\n",
       "      <td>0.968013</td>\n",
       "      <td>0.963480</td>\n",
       "      <td>0.969853</td>\n",
       "      <td>0.964940</td>\n",
       "      <td>-0.151344</td>\n",
       "      <td>0.988195</td>\n",
       "      <td>1.000000</td>\n",
       "      <td>-0.122481</td>\n",
       "    </tr>\n",
       "    <tr>\n",
       "      <th>volatility</th>\n",
       "      <td>-0.070292</td>\n",
       "      <td>-0.064057</td>\n",
       "      <td>-0.077625</td>\n",
       "      <td>-0.069950</td>\n",
       "      <td>0.213278</td>\n",
       "      <td>-0.090605</td>\n",
       "      <td>-0.122481</td>\n",
       "      <td>1.000000</td>\n",
       "    </tr>\n",
       "  </tbody>\n",
       "</table>\n",
       "</div>"
      ],
      "text/plain": [
       "                Open      High       Low     Close       rsi  ema_fast  \\\n",
       "Open        1.000000  0.997765  0.997915  0.995587  0.078943  0.991611   \n",
       "High        0.997765  1.000000  0.997125  0.998045  0.101303  0.989377   \n",
       "Low         0.997915  0.997125  1.000000  0.997929  0.089003  0.991786   \n",
       "Close       0.995587  0.998045  0.997929  1.000000  0.111305  0.989230   \n",
       "rsi         0.078943  0.101303  0.089003  0.111305  1.000000 -0.016902   \n",
       "ema_fast    0.991611  0.989377  0.991786  0.989230 -0.016902  1.000000   \n",
       "ema_slow    0.968013  0.963480  0.969853  0.964940 -0.151344  0.988195   \n",
       "volatility -0.070292 -0.064057 -0.077625 -0.069950  0.213278 -0.090605   \n",
       "\n",
       "            ema_slow  volatility  \n",
       "Open        0.968013   -0.070292  \n",
       "High        0.963480   -0.064057  \n",
       "Low         0.969853   -0.077625  \n",
       "Close       0.964940   -0.069950  \n",
       "rsi        -0.151344    0.213278  \n",
       "ema_fast    0.988195   -0.090605  \n",
       "ema_slow    1.000000   -0.122481  \n",
       "volatility -0.122481    1.000000  "
      ]
     },
     "execution_count": 67,
     "metadata": {},
     "output_type": "execute_result"
    }
   ],
   "source": [
    "corr_cont"
   ]
  },
  {
   "cell_type": "code",
   "execution_count": 68,
   "metadata": {},
   "outputs": [],
   "source": [
    "parms=rcParams['figure.figsize']"
   ]
  },
  {
   "cell_type": "code",
   "execution_count": 69,
   "metadata": {},
   "outputs": [],
   "source": [
    "sns.set_style('whitegrid')\n",
    "sns.set_context({'figure.figsize':(24,13)})\n",
    "sns.set(rc={'axes.facecolor':'white','figure.facecolor':'white'})"
   ]
  },
  {
   "cell_type": "code",
   "execution_count": 70,
   "metadata": {},
   "outputs": [
    {
     "data": {
      "text/plain": [
       "Text(0.5, 1.0, 'Headmap for EURGBP dataset')"
      ]
     },
     "execution_count": 70,
     "metadata": {},
     "output_type": "execute_result"
    },
    {
     "data": {
      "image/png": "[encoded data removed]",
      "text/plain": [
       "<Figure size 1728x936 with 2 Axes>"
      ]
     },
     "metadata": {},
     "output_type": "display_data"
    }
   ],
   "source": [
    "sns.heatmap(corr_cont,cmap=sns.diverging_palette(150,275,as_cmap = True),square = True, annot = True, fmt ='.3f')\n",
    "plt.title('Headmap for EURGBP dataset',weight='bold',fontsize=16)"
   ]
  },
  {
   "cell_type": "markdown",
   "metadata": {},
   "source": [
    "+ Open,High,Low and Close are highly correlated\n",
    "+ ema_fast and ema_slow are also higly correlated\n",
    "+ rsi and volatility are not correlated with any variable"
   ]
  },
  {
   "cell_type": "code",
   "execution_count": 71,
   "metadata": {},
   "outputs": [],
   "source": [
    "rcParams['figure.figsize'] = parms"
   ]
  },
  {
   "cell_type": "markdown",
   "metadata": {},
   "source": [
    "# Time evolution of the variables"
   ]
  },
  {
   "cell_type": "code",
   "execution_count": 72,
   "metadata": {},
   "outputs": [
    {
     "data": {
      "text/html": [
       "<div>\n",
       "<style scoped>\n",
       "    .dataframe tbody tr th:only-of-type {\n",
       "        vertical-align: middle;\n",
       "    }\n",
       "\n",
       "    .dataframe tbody tr th {\n",
       "        vertical-align: top;\n",
       "    }\n",
       "\n",
       "    .dataframe thead th {\n",
       "        text-align: right;\n",
       "    }\n",
       "</style>\n",
       "<table border=\"1\" class=\"dataframe\">\n",
       "  <thead>\n",
       "    <tr style=\"text-align: right;\">\n",
       "      <th></th>\n",
       "      <th>Date</th>\n",
       "      <th>Open</th>\n",
       "      <th>High</th>\n",
       "      <th>Low</th>\n",
       "      <th>Close</th>\n",
       "      <th>rsi</th>\n",
       "      <th>ema_fast</th>\n",
       "      <th>ema_slow</th>\n",
       "      <th>volatility</th>\n",
       "    </tr>\n",
       "  </thead>\n",
       "  <tbody>\n",
       "    <tr>\n",
       "      <th>0</th>\n",
       "      <td>2000-01-03</td>\n",
       "      <td>0.62810</td>\n",
       "      <td>0.63300</td>\n",
       "      <td>0.62350</td>\n",
       "      <td>0.62720</td>\n",
       "      <td>NaN</td>\n",
       "      <td>NaN</td>\n",
       "      <td>NaN</td>\n",
       "      <td>NaN</td>\n",
       "    </tr>\n",
       "    <tr>\n",
       "      <th>1</th>\n",
       "      <td>2000-01-10</td>\n",
       "      <td>0.62710</td>\n",
       "      <td>0.62900</td>\n",
       "      <td>0.61810</td>\n",
       "      <td>0.61970</td>\n",
       "      <td>NaN</td>\n",
       "      <td>NaN</td>\n",
       "      <td>NaN</td>\n",
       "      <td>NaN</td>\n",
       "    </tr>\n",
       "    <tr>\n",
       "      <th>2</th>\n",
       "      <td>2000-01-17</td>\n",
       "      <td>0.62000</td>\n",
       "      <td>0.62250</td>\n",
       "      <td>0.60720</td>\n",
       "      <td>0.60900</td>\n",
       "      <td>NaN</td>\n",
       "      <td>NaN</td>\n",
       "      <td>NaN</td>\n",
       "      <td>NaN</td>\n",
       "    </tr>\n",
       "    <tr>\n",
       "      <th>3</th>\n",
       "      <td>2000-01-24</td>\n",
       "      <td>0.60910</td>\n",
       "      <td>0.61271</td>\n",
       "      <td>0.59900</td>\n",
       "      <td>0.60270</td>\n",
       "      <td>NaN</td>\n",
       "      <td>NaN</td>\n",
       "      <td>NaN</td>\n",
       "      <td>NaN</td>\n",
       "    </tr>\n",
       "    <tr>\n",
       "      <th>4</th>\n",
       "      <td>2000-01-31</td>\n",
       "      <td>0.60210</td>\n",
       "      <td>0.62670</td>\n",
       "      <td>0.59800</td>\n",
       "      <td>0.61580</td>\n",
       "      <td>NaN</td>\n",
       "      <td>NaN</td>\n",
       "      <td>NaN</td>\n",
       "      <td>NaN</td>\n",
       "    </tr>\n",
       "    <tr>\n",
       "      <th>...</th>\n",
       "      <td>...</td>\n",
       "      <td>...</td>\n",
       "      <td>...</td>\n",
       "      <td>...</td>\n",
       "      <td>...</td>\n",
       "      <td>...</td>\n",
       "      <td>...</td>\n",
       "      <td>...</td>\n",
       "      <td>...</td>\n",
       "    </tr>\n",
       "    <tr>\n",
       "      <th>1030</th>\n",
       "      <td>2019-09-30</td>\n",
       "      <td>0.89002</td>\n",
       "      <td>0.89365</td>\n",
       "      <td>0.88333</td>\n",
       "      <td>0.88779</td>\n",
       "      <td>47.151897</td>\n",
       "      <td>0.895761</td>\n",
       "      <td>0.889108</td>\n",
       "      <td>1.564625</td>\n",
       "    </tr>\n",
       "    <tr>\n",
       "      <th>1031</th>\n",
       "      <td>2019-10-07</td>\n",
       "      <td>0.89050</td>\n",
       "      <td>0.90183</td>\n",
       "      <td>0.86835</td>\n",
       "      <td>0.86835</td>\n",
       "      <td>37.551961</td>\n",
       "      <td>0.892106</td>\n",
       "      <td>0.888143</td>\n",
       "      <td>1.760791</td>\n",
       "    </tr>\n",
       "    <tr>\n",
       "      <th>1032</th>\n",
       "      <td>2019-10-14</td>\n",
       "      <td>0.87443</td>\n",
       "      <td>0.88081</td>\n",
       "      <td>0.85808</td>\n",
       "      <td>0.86451</td>\n",
       "      <td>35.993098</td>\n",
       "      <td>0.888426</td>\n",
       "      <td>0.887044</td>\n",
       "      <td>1.830085</td>\n",
       "    </tr>\n",
       "    <tr>\n",
       "      <th>1033</th>\n",
       "      <td>2019-10-21</td>\n",
       "      <td>0.86453</td>\n",
       "      <td>0.86687</td>\n",
       "      <td>0.85770</td>\n",
       "      <td>0.86380</td>\n",
       "      <td>35.698024</td>\n",
       "      <td>0.885143</td>\n",
       "      <td>0.885962</td>\n",
       "      <td>1.776589</td>\n",
       "    </tr>\n",
       "    <tr>\n",
       "      <th>1034</th>\n",
       "      <td>2019-10-28</td>\n",
       "      <td>0.86390</td>\n",
       "      <td>0.86520</td>\n",
       "      <td>0.85958</td>\n",
       "      <td>0.86280</td>\n",
       "      <td>35.259578</td>\n",
       "      <td>0.882164</td>\n",
       "      <td>0.884885</td>\n",
       "      <td>1.698128</td>\n",
       "    </tr>\n",
       "  </tbody>\n",
       "</table>\n",
       "<p>1032 rows × 9 columns</p>\n",
       "</div>"
      ],
      "text/plain": [
       "           Date     Open     High      Low    Close        rsi  ema_fast  \\\n",
       "0    2000-01-03  0.62810  0.63300  0.62350  0.62720        NaN       NaN   \n",
       "1    2000-01-10  0.62710  0.62900  0.61810  0.61970        NaN       NaN   \n",
       "2    2000-01-17  0.62000  0.62250  0.60720  0.60900        NaN       NaN   \n",
       "3    2000-01-24  0.60910  0.61271  0.59900  0.60270        NaN       NaN   \n",
       "4    2000-01-31  0.60210  0.62670  0.59800  0.61580        NaN       NaN   \n",
       "...         ...      ...      ...      ...      ...        ...       ...   \n",
       "1030 2019-09-30  0.89002  0.89365  0.88333  0.88779  47.151897  0.895761   \n",
       "1031 2019-10-07  0.89050  0.90183  0.86835  0.86835  37.551961  0.892106   \n",
       "1032 2019-10-14  0.87443  0.88081  0.85808  0.86451  35.993098  0.888426   \n",
       "1033 2019-10-21  0.86453  0.86687  0.85770  0.86380  35.698024  0.885143   \n",
       "1034 2019-10-28  0.86390  0.86520  0.85958  0.86280  35.259578  0.882164   \n",
       "\n",
       "      ema_slow  volatility  \n",
       "0          NaN         NaN  \n",
       "1          NaN         NaN  \n",
       "2          NaN         NaN  \n",
       "3          NaN         NaN  \n",
       "4          NaN         NaN  \n",
       "...        ...         ...  \n",
       "1030  0.889108    1.564625  \n",
       "1031  0.888143    1.760791  \n",
       "1032  0.887044    1.830085  \n",
       "1033  0.885962    1.776589  \n",
       "1034  0.884885    1.698128  \n",
       "\n",
       "[1032 rows x 9 columns]"
      ]
     },
     "execution_count": 72,
     "metadata": {},
     "output_type": "execute_result"
    }
   ],
   "source": [
    "data"
   ]
  },
  {
   "cell_type": "code",
   "execution_count": 73,
   "metadata": {},
   "outputs": [
    {
     "ename": "SyntaxError",
     "evalue": "invalid syntax (<ipython-input-73-5898c7c0fda2>, line 1)",
     "output_type": "error",
     "traceback": [
      "\u001b[1;36m  File \u001b[1;32m\"<ipython-input-73-5898c7c0fda2>\"\u001b[1;36m, line \u001b[1;32m1\u001b[0m\n\u001b[1;33m    [df.loc[df['month_int'==m,'month'] for m in df['month'].tolist()]\u001b[0m\n\u001b[1;37m                                         ^\u001b[0m\n\u001b[1;31mSyntaxError\u001b[0m\u001b[1;31m:\u001b[0m invalid syntax\n"
     ]
    }
   ],
   "source": [
    "[df.loc[df['month_int'==m,'month'] for m in df['month'].tolist()]"
   ]
  },
  {
   "cell_type": "code",
   "execution_count": null,
   "metadata": {},
   "outputs": [],
   "source": [
    "def temporal_evolution(variable):\n",
    "\n",
    "    df_temp=data.loc[:,('Date',variable)]\n",
    "    df_temp =df_temp.loc[pd.isna(data[variable])==False]\n",
    "    df_temp.loc[:,'month']=df_temp.apply(lambda row: str(row['Date'].year)+str(row['Date'].month).zfill(2),axis =1)\n",
    "    df_temp=df_temp.groupby('month')[variable].agg(['mean'])\n",
    "    df_temp.reset_index(level=0,inplace =True)\n",
    "    df_temp.loc[:,'month_int']=df_temp.apply(lambda row:(int(row['month'][0:4])%2000)*12+int(row['month'][4:6]),axis=1)\n",
    "    df_temp.loc[:,'month']=df_temp.apply(lambda row: row['month'][4:6]+'/'+row['month'][0:4],axis=1)\n",
    "    fig,ax = plt.subplots()\n",
    "    ax.scatter(df_temp['month_int'],df_temp['mean'])\n",
    "    ax.set_xlabel('Months')\n",
    "    ax.set_ylabel('Mean of '+ variable)\n",
    "\n",
    "    m,b = np.polyfit(df_temp['month_int'],df_temp['mean'],1)\n",
    "    plt.plot(df_temp['month_int'],m*df_temp['month_int']+b)"
   ]
  },
  {
   "cell_type": "code",
   "execution_count": null,
   "metadata": {},
   "outputs": [],
   "source": [
    "temporal_evolution('Open')"
   ]
  },
  {
   "cell_type": "code",
   "execution_count": null,
   "metadata": {},
   "outputs": [],
   "source": [
    "temporal_evolution('High')"
   ]
  },
  {
   "cell_type": "code",
   "execution_count": null,
   "metadata": {},
   "outputs": [],
   "source": [
    "temporal_evolution('Low')"
   ]
  },
  {
   "cell_type": "code",
   "execution_count": null,
   "metadata": {},
   "outputs": [],
   "source": [
    "temporal_evolution('Close')"
   ]
  },
  {
   "cell_type": "markdown",
   "metadata": {},
   "source": [
    "+ We can see the hight volatility of these temporal series\n",
    "+ They grow up "
   ]
  },
  {
   "cell_type": "code",
   "execution_count": null,
   "metadata": {},
   "outputs": [],
   "source": [
    "temporal_evolution('rsi')"
   ]
  },
  {
   "cell_type": "markdown",
   "metadata": {},
   "source": [
    "+ rsi does not increase or decrease over time"
   ]
  },
  {
   "cell_type": "code",
   "execution_count": null,
   "metadata": {},
   "outputs": [],
   "source": [
    "temporal_evolution('ema_fast')"
   ]
  },
  {
   "cell_type": "code",
   "execution_count": null,
   "metadata": {},
   "outputs": [],
   "source": [
    "temporal_evolution('ema_slow')"
   ]
  },
  {
   "cell_type": "code",
   "execution_count": null,
   "metadata": {},
   "outputs": [],
   "source": [
    "temporal_evolution('volatility')"
   ]
  },
  {
   "cell_type": "markdown",
   "metadata": {},
   "source": [
    "+ There are volatility peaks that then gradually return to average volatility"
   ]
  },
  {
   "cell_type": "code",
   "execution_count": null,
   "metadata": {},
   "outputs": [],
   "source": []
  }
 ],
 "metadata": {
  "kernelspec": {
   "display_name": "Python 3",
   "language": "python",
   "name": "python3"
  },
  "language_info": {
   "codemirror_mode": {
    "name": "ipython",
    "version": 3
   },
   "file_extension": ".py",
   "mimetype": "text/x-python",
   "name": "python",
   "nbconvert_exporter": "python",
   "pygments_lexer": "ipython3",
   "version": "3.6.10"
  }
 },
 "nbformat": 4,
 "nbformat_minor": 4
}
